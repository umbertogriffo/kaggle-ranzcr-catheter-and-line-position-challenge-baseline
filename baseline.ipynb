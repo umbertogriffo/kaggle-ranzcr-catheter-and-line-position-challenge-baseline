{
  "nbformat": 4,
  "nbformat_minor": 0,
  "metadata": {
    "colab": {
      "name": "baseline",
      "provenance": [],
      "collapsed_sections": [
        "jTXksFtiHfDH",
        "pBETV6aO2d39",
        "oBEqkWIpH0zJ",
        "pRmp45qYY1NJ",
        "j3YbTNckY4ua"
      ],
      "toc_visible": true,
      "include_colab_link": true
    },
    "kernelspec": {
      "display_name": "Python 3",
      "name": "python3"
    },
    "accelerator": "TPU"
  },
  "cells": [
    {
      "cell_type": "markdown",
      "metadata": {
        "id": "view-in-github",
        "colab_type": "text"
      },
      "source": [
        "<a href=\"https://colab.research.google.com/github/umbertogriffo/kaggle-ranzcr-catheter-and-line-position-challenge-baseline/blob/master/baseline.ipynb\" target=\"_parent\"><img src=\"https://colab.research.google.com/assets/colab-badge.svg\" alt=\"Open In Colab\"/></a>"
      ]
    },
    {
      "cell_type": "code",
      "metadata": {
        "id": "KOf6f_dYMqoF"
      },
      "source": [
        "!kill -9 -1"
      ],
      "execution_count": null,
      "outputs": []
    },
    {
      "cell_type": "markdown",
      "metadata": {
        "id": "jTXksFtiHfDH"
      },
      "source": [
        "# Install Kaggle API"
      ]
    },
    {
      "cell_type": "code",
      "metadata": {
        "colab": {
          "base_uri": "https://localhost:8080/"
        },
        "id": "YMvFLpBQlBTR",
        "outputId": "9b41a81a-e011-477a-ab50-1b1028e59f79"
      },
      "source": [
        "!pip install kaggle\n",
        "!pip install --upgrade --force-reinstall --no-deps kaggle # force install the latest version"
      ],
      "execution_count": 1,
      "outputs": [
        {
          "output_type": "stream",
          "text": [
            "Requirement already satisfied: kaggle in /usr/local/lib/python3.7/dist-packages (1.5.10)\n",
            "Requirement already satisfied: python-slugify in /usr/local/lib/python3.7/dist-packages (from kaggle) (4.0.1)\n",
            "Requirement already satisfied: requests in /usr/local/lib/python3.7/dist-packages (from kaggle) (2.23.0)\n",
            "Requirement already satisfied: certifi in /usr/local/lib/python3.7/dist-packages (from kaggle) (2020.12.5)\n",
            "Requirement already satisfied: six>=1.10 in /usr/local/lib/python3.7/dist-packages (from kaggle) (1.15.0)\n",
            "Requirement already satisfied: tqdm in /usr/local/lib/python3.7/dist-packages (from kaggle) (4.41.1)\n",
            "Requirement already satisfied: python-dateutil in /usr/local/lib/python3.7/dist-packages (from kaggle) (2.8.1)\n",
            "Requirement already satisfied: urllib3 in /usr/local/lib/python3.7/dist-packages (from kaggle) (1.24.3)\n",
            "Requirement already satisfied: text-unidecode>=1.3 in /usr/local/lib/python3.7/dist-packages (from python-slugify->kaggle) (1.3)\n",
            "Requirement already satisfied: chardet<4,>=3.0.2 in /usr/local/lib/python3.7/dist-packages (from requests->kaggle) (3.0.4)\n",
            "Requirement already satisfied: idna<3,>=2.5 in /usr/local/lib/python3.7/dist-packages (from requests->kaggle) (2.10)\n",
            "Collecting kaggle\n",
            "\u001b[?25l  Downloading https://files.pythonhosted.org/packages/99/33/365c0d13f07a2a54744d027fe20b60dacdfdfb33bc04746db6ad0b79340b/kaggle-1.5.10.tar.gz (59kB)\n",
            "\u001b[K     |████████████████████████████████| 61kB 3.3MB/s \n",
            "\u001b[?25hBuilding wheels for collected packages: kaggle\n",
            "  Building wheel for kaggle (setup.py) ... \u001b[?25l\u001b[?25hdone\n",
            "  Created wheel for kaggle: filename=kaggle-1.5.10-cp37-none-any.whl size=73269 sha256=12b3dd3464def195bc632c36963ae55a6a1d75a589f6ccf4ff2c8600703b0d65\n",
            "  Stored in directory: /root/.cache/pip/wheels/3a/d1/7e/6ce09b72b770149802c653a02783821629146983ee5a360f10\n",
            "Successfully built kaggle\n",
            "Installing collected packages: kaggle\n",
            "  Found existing installation: kaggle 1.5.10\n",
            "    Uninstalling kaggle-1.5.10:\n",
            "      Successfully uninstalled kaggle-1.5.10\n",
            "Successfully installed kaggle-1.5.10\n"
          ],
          "name": "stdout"
        }
      ]
    },
    {
      "cell_type": "markdown",
      "metadata": {
        "id": "pBETV6aO2d39"
      },
      "source": [
        "# API Credentials\n",
        "\n",
        "To use the Kaggle API, sign up for a Kaggle account at https://www.kaggle.com. Then go to the 'Account' tab of your user profile (https://www.kaggle.com/username/account) and select 'Create API Token'. This will trigger the download of kaggle.json, a file containing your API credentials. \n",
        "\n",
        "Place this file on your Google Drive anywhere.\n",
        "\n",
        "With the next snippet you download your credentials to Colab and you can start using Kaggle API"
      ]
    },
    {
      "cell_type": "code",
      "metadata": {
        "colab": {
          "base_uri": "https://localhost:8080/",
          "height": 1000
        },
        "id": "XCfsJyQs2uUo",
        "outputId": "e187d094-8579-4ea5-f8b5-f2d9292c5f28"
      },
      "source": [
        "# Install gcloud python module and google-api-python-client module\n",
        "!pip install --upgrade gcloud\n",
        "!pip install --upgrade google-api-python-client"
      ],
      "execution_count": 2,
      "outputs": [
        {
          "output_type": "stream",
          "text": [
            "Collecting gcloud\n",
            "\u001b[?25l  Downloading https://files.pythonhosted.org/packages/11/ab/d0cee58db2d8445c26e6f5db25d9b1f1aa14a3ab30eea8ce77ae808d10ef/gcloud-0.18.3.tar.gz (454kB)\n",
            "\r\u001b[K     |▊                               | 10kB 13.8MB/s eta 0:00:01\r\u001b[K     |█▍                              | 20kB 14.1MB/s eta 0:00:01\r\u001b[K     |██▏                             | 30kB 9.7MB/s eta 0:00:01\r\u001b[K     |██▉                             | 40kB 8.1MB/s eta 0:00:01\r\u001b[K     |███▋                            | 51kB 5.4MB/s eta 0:00:01\r\u001b[K     |████▎                           | 61kB 6.1MB/s eta 0:00:01\r\u001b[K     |█████                           | 71kB 6.0MB/s eta 0:00:01\r\u001b[K     |█████▊                          | 81kB 5.9MB/s eta 0:00:01\r\u001b[K     |██████▌                         | 92kB 5.8MB/s eta 0:00:01\r\u001b[K     |███████▏                        | 102kB 6.2MB/s eta 0:00:01\r\u001b[K     |████████                        | 112kB 6.2MB/s eta 0:00:01\r\u001b[K     |████████▋                       | 122kB 6.2MB/s eta 0:00:01\r\u001b[K     |█████████▍                      | 133kB 6.2MB/s eta 0:00:01\r\u001b[K     |██████████                      | 143kB 6.2MB/s eta 0:00:01\r\u001b[K     |██████████▉                     | 153kB 6.2MB/s eta 0:00:01\r\u001b[K     |███████████▌                    | 163kB 6.2MB/s eta 0:00:01\r\u001b[K     |████████████▎                   | 174kB 6.2MB/s eta 0:00:01\r\u001b[K     |█████████████                   | 184kB 6.2MB/s eta 0:00:01\r\u001b[K     |█████████████▊                  | 194kB 6.2MB/s eta 0:00:01\r\u001b[K     |██████████████▍                 | 204kB 6.2MB/s eta 0:00:01\r\u001b[K     |███████████████▏                | 215kB 6.2MB/s eta 0:00:01\r\u001b[K     |███████████████▉                | 225kB 6.2MB/s eta 0:00:01\r\u001b[K     |████████████████▋               | 235kB 6.2MB/s eta 0:00:01\r\u001b[K     |█████████████████▎              | 245kB 6.2MB/s eta 0:00:01\r\u001b[K     |██████████████████              | 256kB 6.2MB/s eta 0:00:01\r\u001b[K     |██████████████████▊             | 266kB 6.2MB/s eta 0:00:01\r\u001b[K     |███████████████████▌            | 276kB 6.2MB/s eta 0:00:01\r\u001b[K     |████████████████████▏           | 286kB 6.2MB/s eta 0:00:01\r\u001b[K     |█████████████████████           | 296kB 6.2MB/s eta 0:00:01\r\u001b[K     |█████████████████████▋          | 307kB 6.2MB/s eta 0:00:01\r\u001b[K     |██████████████████████▍         | 317kB 6.2MB/s eta 0:00:01\r\u001b[K     |███████████████████████         | 327kB 6.2MB/s eta 0:00:01\r\u001b[K     |███████████████████████▉        | 337kB 6.2MB/s eta 0:00:01\r\u001b[K     |████████████████████████▌       | 348kB 6.2MB/s eta 0:00:01\r\u001b[K     |█████████████████████████▎      | 358kB 6.2MB/s eta 0:00:01\r\u001b[K     |██████████████████████████      | 368kB 6.2MB/s eta 0:00:01\r\u001b[K     |██████████████████████████▊     | 378kB 6.2MB/s eta 0:00:01\r\u001b[K     |███████████████████████████▍    | 389kB 6.2MB/s eta 0:00:01\r\u001b[K     |████████████████████████████▏   | 399kB 6.2MB/s eta 0:00:01\r\u001b[K     |████████████████████████████▉   | 409kB 6.2MB/s eta 0:00:01\r\u001b[K     |█████████████████████████████▋  | 419kB 6.2MB/s eta 0:00:01\r\u001b[K     |██████████████████████████████▎ | 430kB 6.2MB/s eta 0:00:01\r\u001b[K     |███████████████████████████████ | 440kB 6.2MB/s eta 0:00:01\r\u001b[K     |███████████████████████████████▊| 450kB 6.2MB/s eta 0:00:01\r\u001b[K     |████████████████████████████████| 460kB 6.2MB/s \n",
            "\u001b[?25hRequirement already satisfied, skipping upgrade: httplib2>=0.9.1 in /usr/local/lib/python3.7/dist-packages (from gcloud) (0.17.4)\n",
            "Requirement already satisfied, skipping upgrade: googleapis-common-protos in /usr/local/lib/python3.7/dist-packages (from gcloud) (1.52.0)\n",
            "Requirement already satisfied, skipping upgrade: oauth2client>=2.0.1 in /usr/local/lib/python3.7/dist-packages (from gcloud) (4.1.3)\n",
            "Requirement already satisfied, skipping upgrade: protobuf!=3.0.0.b2.post1,>=3.0.0b2 in /usr/local/lib/python3.7/dist-packages (from gcloud) (3.12.4)\n",
            "Requirement already satisfied, skipping upgrade: six in /usr/local/lib/python3.7/dist-packages (from gcloud) (1.15.0)\n",
            "Requirement already satisfied, skipping upgrade: pyasn1>=0.1.7 in /usr/local/lib/python3.7/dist-packages (from oauth2client>=2.0.1->gcloud) (0.4.8)\n",
            "Requirement already satisfied, skipping upgrade: pyasn1-modules>=0.0.5 in /usr/local/lib/python3.7/dist-packages (from oauth2client>=2.0.1->gcloud) (0.2.8)\n",
            "Requirement already satisfied, skipping upgrade: rsa>=3.1.4 in /usr/local/lib/python3.7/dist-packages (from oauth2client>=2.0.1->gcloud) (4.7.2)\n",
            "Requirement already satisfied, skipping upgrade: setuptools in /usr/local/lib/python3.7/dist-packages (from protobuf!=3.0.0.b2.post1,>=3.0.0b2->gcloud) (54.0.0)\n",
            "Building wheels for collected packages: gcloud\n",
            "  Building wheel for gcloud (setup.py) ... \u001b[?25l\u001b[?25hdone\n",
            "  Created wheel for gcloud: filename=gcloud-0.18.3-cp37-none-any.whl size=602938 sha256=2142ab9b23bcd664622a65b35dfab106c6a4af6d458d3f8427338ad2dd261dc6\n",
            "  Stored in directory: /root/.cache/pip/wheels/b9/9b/9c/a01be401658fea33b93a35d03921b0c638266821b264dc8662\n",
            "Successfully built gcloud\n",
            "Installing collected packages: gcloud\n",
            "Successfully installed gcloud-0.18.3\n",
            "Collecting google-api-python-client\n",
            "\u001b[?25l  Downloading https://files.pythonhosted.org/packages/b7/56/bc7314cd180d1420e4ef11202dc9548ec22237a0a6de1aaf37b460ee7753/google_api_python_client-2.0.2-py2.py3-none-any.whl (6.5MB)\n",
            "\u001b[K     |████████████████████████████████| 6.5MB 5.2MB/s \n",
            "\u001b[?25hRequirement already satisfied, skipping upgrade: uritemplate<4dev,>=3.0.0 in /usr/local/lib/python3.7/dist-packages (from google-api-python-client) (3.0.1)\n",
            "Collecting google-api-core<2dev,>=1.21.0\n",
            "\u001b[?25l  Downloading https://files.pythonhosted.org/packages/0e/72/1dfc9233b3cc2b3e2a1d2839e18f2ced8fe9586425aaa13483d47cef542b/google_api_core-1.26.1-py2.py3-none-any.whl (92kB)\n",
            "\u001b[K     |████████████████████████████████| 102kB 10.5MB/s \n",
            "\u001b[?25hRequirement already satisfied, skipping upgrade: six<2dev,>=1.13.0 in /usr/local/lib/python3.7/dist-packages (from google-api-python-client) (1.15.0)\n",
            "Requirement already satisfied, skipping upgrade: google-auth-httplib2>=0.0.3 in /usr/local/lib/python3.7/dist-packages (from google-api-python-client) (0.0.4)\n",
            "Requirement already satisfied, skipping upgrade: google-auth<2dev,>=1.16.0 in /usr/local/lib/python3.7/dist-packages (from google-api-python-client) (1.27.0)\n",
            "Requirement already satisfied, skipping upgrade: httplib2<1dev,>=0.15.0 in /usr/local/lib/python3.7/dist-packages (from google-api-python-client) (0.17.4)\n",
            "Requirement already satisfied, skipping upgrade: protobuf>=3.12.0 in /usr/local/lib/python3.7/dist-packages (from google-api-core<2dev,>=1.21.0->google-api-python-client) (3.12.4)\n",
            "Requirement already satisfied, skipping upgrade: pytz in /usr/local/lib/python3.7/dist-packages (from google-api-core<2dev,>=1.21.0->google-api-python-client) (2018.9)\n",
            "Requirement already satisfied, skipping upgrade: packaging>=14.3 in /usr/local/lib/python3.7/dist-packages (from google-api-core<2dev,>=1.21.0->google-api-python-client) (20.9)\n",
            "Requirement already satisfied, skipping upgrade: requests<3.0.0dev,>=2.18.0 in /usr/local/lib/python3.7/dist-packages (from google-api-core<2dev,>=1.21.0->google-api-python-client) (2.23.0)\n",
            "Requirement already satisfied, skipping upgrade: googleapis-common-protos<2.0dev,>=1.6.0 in /usr/local/lib/python3.7/dist-packages (from google-api-core<2dev,>=1.21.0->google-api-python-client) (1.52.0)\n",
            "Requirement already satisfied, skipping upgrade: setuptools>=40.3.0 in /usr/local/lib/python3.7/dist-packages (from google-api-core<2dev,>=1.21.0->google-api-python-client) (54.0.0)\n",
            "Requirement already satisfied, skipping upgrade: pyasn1-modules>=0.2.1 in /usr/local/lib/python3.7/dist-packages (from google-auth<2dev,>=1.16.0->google-api-python-client) (0.2.8)\n",
            "Requirement already satisfied, skipping upgrade: rsa<5,>=3.1.4; python_version >= \"3.6\" in /usr/local/lib/python3.7/dist-packages (from google-auth<2dev,>=1.16.0->google-api-python-client) (4.7.2)\n",
            "Requirement already satisfied, skipping upgrade: cachetools<5.0,>=2.0.0 in /usr/local/lib/python3.7/dist-packages (from google-auth<2dev,>=1.16.0->google-api-python-client) (4.2.1)\n",
            "Requirement already satisfied, skipping upgrade: pyparsing>=2.0.2 in /usr/local/lib/python3.7/dist-packages (from packaging>=14.3->google-api-core<2dev,>=1.21.0->google-api-python-client) (2.4.7)\n",
            "Requirement already satisfied, skipping upgrade: chardet<4,>=3.0.2 in /usr/local/lib/python3.7/dist-packages (from requests<3.0.0dev,>=2.18.0->google-api-core<2dev,>=1.21.0->google-api-python-client) (3.0.4)\n",
            "Requirement already satisfied, skipping upgrade: certifi>=2017.4.17 in /usr/local/lib/python3.7/dist-packages (from requests<3.0.0dev,>=2.18.0->google-api-core<2dev,>=1.21.0->google-api-python-client) (2020.12.5)\n",
            "Requirement already satisfied, skipping upgrade: idna<3,>=2.5 in /usr/local/lib/python3.7/dist-packages (from requests<3.0.0dev,>=2.18.0->google-api-core<2dev,>=1.21.0->google-api-python-client) (2.10)\n",
            "Requirement already satisfied, skipping upgrade: urllib3!=1.25.0,!=1.25.1,<1.26,>=1.21.1 in /usr/local/lib/python3.7/dist-packages (from requests<3.0.0dev,>=2.18.0->google-api-core<2dev,>=1.21.0->google-api-python-client) (1.24.3)\n",
            "Requirement already satisfied, skipping upgrade: pyasn1<0.5.0,>=0.4.6 in /usr/local/lib/python3.7/dist-packages (from pyasn1-modules>=0.2.1->google-auth<2dev,>=1.16.0->google-api-python-client) (0.4.8)\n",
            "Installing collected packages: google-api-core, google-api-python-client\n",
            "  Found existing installation: google-api-core 1.16.0\n",
            "    Uninstalling google-api-core-1.16.0:\n",
            "      Successfully uninstalled google-api-core-1.16.0\n",
            "  Found existing installation: google-api-python-client 1.7.12\n",
            "    Uninstalling google-api-python-client-1.7.12:\n",
            "      Successfully uninstalled google-api-python-client-1.7.12\n",
            "Successfully installed google-api-core-1.26.1 google-api-python-client-2.0.2\n"
          ],
          "name": "stdout"
        },
        {
          "output_type": "display_data",
          "data": {
            "application/vnd.colab-display-data+json": {
              "pip_warning": {
                "packages": [
                  "google"
                ]
              }
            }
          },
          "metadata": {
            "tags": []
          }
        }
      ]
    },
    {
      "cell_type": "code",
      "metadata": {
        "colab": {
          "base_uri": "https://localhost:8080/"
        },
        "id": "y5_288BYp6H1",
        "outputId": "6e08e7f1-42f4-41d8-96e4-b8ee5f62b9e3"
      },
      "source": [
        "from googleapiclient.discovery import build\n",
        "import io, os\n",
        "from googleapiclient.http import MediaIoBaseDownload\n",
        "from google.colab import auth\n",
        "\n",
        "auth.authenticate_user()\n",
        "\n",
        "drive_service = build('drive', 'v3')\n",
        "results = drive_service.files().list(\n",
        "        q=\"name = 'kaggle.json'\", fields=\"files(id)\").execute()\n",
        "kaggle_api_key = results.get('files', [])\n",
        "\n",
        "filename = \"/content/.kaggle/kaggle.json\"\n",
        "os.makedirs(os.path.dirname(filename), exist_ok=True)\n",
        "\n",
        "request = drive_service.files().get_media(fileId=kaggle_api_key[0]['id'])\n",
        "fh = io.FileIO(filename, 'wb')\n",
        "downloader = MediaIoBaseDownload(fh, request)\n",
        "done = False\n",
        "while done is False:\n",
        "    status, done = downloader.next_chunk()\n",
        "    print(\"Download %d%%.\" % int(status.progress() * 100))\n",
        "os.chmod(filename, 600)"
      ],
      "execution_count": 1,
      "outputs": [
        {
          "output_type": "stream",
          "text": [
            "WARNING:google.auth._default:No project ID could be determined. Consider running `gcloud config set project` or setting the GOOGLE_CLOUD_PROJECT environment variable\n"
          ],
          "name": "stderr"
        },
        {
          "output_type": "stream",
          "text": [
            "Download 100%.\n"
          ],
          "name": "stdout"
        }
      ]
    },
    {
      "cell_type": "code",
      "metadata": {
        "id": "wYlMHoUHGaCx"
      },
      "source": [
        "!mkdir ~/.kaggle\n",
        "!cp /content/.kaggle/kaggle.json ~/.kaggle/kaggle.json"
      ],
      "execution_count": 2,
      "outputs": []
    },
    {
      "cell_type": "markdown",
      "metadata": {
        "id": "oBEqkWIpH0zJ"
      },
      "source": [
        "# Download The Dataset From Kaggle"
      ]
    },
    {
      "cell_type": "code",
      "metadata": {
        "colab": {
          "base_uri": "https://localhost:8080/"
        },
        "id": "SDyKzZPtOV1-",
        "outputId": "b9df61ac-82d8-4d10-a699-bcb5a08cf746"
      },
      "source": [
        "!kaggle competitions download -c ranzcr-clip-catheter-line-classification -p /content/\n",
        "!unzip -q /content/ranzcr-clip-catheter-line-classification.zip\n",
        "!rm /content/ranzcr-clip-catheter-line-classification.zip"
      ],
      "execution_count": 3,
      "outputs": [
        {
          "output_type": "stream",
          "text": [
            "Downloading ranzcr-clip-catheter-line-classification.zip to /content\n",
            "100% 11.7G/11.7G [03:07<00:00, 99.4MB/s]\n",
            "100% 11.7G/11.7G [03:07<00:00, 67.1MB/s]\n"
          ],
          "name": "stdout"
        }
      ]
    },
    {
      "cell_type": "code",
      "metadata": {
        "colab": {
          "base_uri": "https://localhost:8080/"
        },
        "id": "HyOzEerhOqsJ",
        "outputId": "8526f50b-f2f5-4bf3-cd93-0200cfbf579b"
      },
      "source": [
        "%cd /content\n",
        "!ls"
      ],
      "execution_count": 4,
      "outputs": [
        {
          "output_type": "stream",
          "text": [
            "/content\n",
            "adc.json\t       test\t       train_annotations.csv\n",
            "sample_data\t       test_tfrecords  train.csv\n",
            "sample_submission.csv  train\t       train_tfrecords\n"
          ],
          "name": "stdout"
        }
      ]
    },
    {
      "cell_type": "markdown",
      "metadata": {
        "id": "cX15e0B7sQhW"
      },
      "source": [
        "# Code"
      ]
    },
    {
      "cell_type": "markdown",
      "metadata": {
        "id": "oggOAd7N_u_n"
      },
      "source": [
        "## Enabling and testing the TPU\r\n",
        "\r\n",
        "First, you'll need to enable TPUs for the notebook:\r\n",
        "\r\n",
        "- Navigate to Edit→Notebook Settings\r\n",
        "- select TPU from the Hardware Accelerator drop-down\r\n",
        "\r\n",
        "Next, we'll check that we can connect to the TPU:"
      ]
    },
    {
      "cell_type": "code",
      "metadata": {
        "colab": {
          "base_uri": "https://localhost:8080/"
        },
        "id": "azlOYigdAHQW",
        "outputId": "a8656b97-bc96-4086-95e0-7f630029d138"
      },
      "source": [
        "%tensorflow_version 2.x\r\n",
        "import tensorflow as tf\r\n",
        "print(\"Tensorflow version \" + tf.__version__)\r\n",
        "import os\r\n",
        "\r\n",
        "# This address identifies the TPU we'll use when configuring TensorFlow.\r\n",
        "TPU_WORKER = 'grpc://' + os.environ['COLAB_TPU_ADDR']\r\n",
        "\r\n",
        "def auto_select_accelerator(tpu_worker_address):\r\n",
        "    try:\r\n",
        "        tf.config.experimental_connect_to_host(tpu_worker_address)\r\n",
        "        tpu = tf.distribute.cluster_resolver.TPUClusterResolver(tpu_worker_address) # TPU detection\r\n",
        "        tf.config.experimental_connect_to_cluster(tpu)\r\n",
        "        tf.tpu.experimental.initialize_tpu_system(tpu)\r\n",
        "        strategy = tf.distribute.TPUStrategy(tpu)\r\n",
        "        print(\"Running on TPU:\", tpu.master())\r\n",
        "    except ValueError:\r\n",
        "        print('Not connected to a TPU runtime; please see the previous cell in this notebook for instructions!')\r\n",
        "        strategy = tf.distribute.get_strategy()\r\n",
        "    print(f\"Running on {strategy.num_replicas_in_sync} replicas\")\r\n",
        "    \r\n",
        "    return strategy\r\n",
        "\r\n",
        "strategy = auto_select_accelerator(TPU_WORKER)"
      ],
      "execution_count": 1,
      "outputs": [
        {
          "output_type": "stream",
          "text": [
            "Tensorflow version 2.4.1\n",
            "INFO:tensorflow:Initializing the TPU system: grpc://10.112.255.250:8470\n"
          ],
          "name": "stdout"
        },
        {
          "output_type": "stream",
          "text": [
            "INFO:tensorflow:Initializing the TPU system: grpc://10.112.255.250:8470\n"
          ],
          "name": "stderr"
        },
        {
          "output_type": "stream",
          "text": [
            "INFO:tensorflow:Clearing out eager caches\n"
          ],
          "name": "stdout"
        },
        {
          "output_type": "stream",
          "text": [
            "INFO:tensorflow:Clearing out eager caches\n"
          ],
          "name": "stderr"
        },
        {
          "output_type": "stream",
          "text": [
            "INFO:tensorflow:Finished initializing TPU system.\n"
          ],
          "name": "stdout"
        },
        {
          "output_type": "stream",
          "text": [
            "INFO:tensorflow:Finished initializing TPU system.\n",
            "WARNING:absl:`tf.distribute.experimental.TPUStrategy` is deprecated, please use  the non experimental symbol `tf.distribute.TPUStrategy` instead.\n"
          ],
          "name": "stderr"
        },
        {
          "output_type": "stream",
          "text": [
            "INFO:tensorflow:Found TPU system:\n"
          ],
          "name": "stdout"
        },
        {
          "output_type": "stream",
          "text": [
            "INFO:tensorflow:Found TPU system:\n"
          ],
          "name": "stderr"
        },
        {
          "output_type": "stream",
          "text": [
            "INFO:tensorflow:*** Num TPU Cores: 8\n"
          ],
          "name": "stdout"
        },
        {
          "output_type": "stream",
          "text": [
            "INFO:tensorflow:*** Num TPU Cores: 8\n"
          ],
          "name": "stderr"
        },
        {
          "output_type": "stream",
          "text": [
            "INFO:tensorflow:*** Num TPU Workers: 1\n"
          ],
          "name": "stdout"
        },
        {
          "output_type": "stream",
          "text": [
            "INFO:tensorflow:*** Num TPU Workers: 1\n"
          ],
          "name": "stderr"
        },
        {
          "output_type": "stream",
          "text": [
            "INFO:tensorflow:*** Num TPU Cores Per Worker: 8\n"
          ],
          "name": "stdout"
        },
        {
          "output_type": "stream",
          "text": [
            "INFO:tensorflow:*** Num TPU Cores Per Worker: 8\n"
          ],
          "name": "stderr"
        },
        {
          "output_type": "stream",
          "text": [
            "INFO:tensorflow:*** Available Device: _DeviceAttributes(/job:localhost/replica:0/task:0/device:CPU:0, CPU, 0, 0)\n"
          ],
          "name": "stdout"
        },
        {
          "output_type": "stream",
          "text": [
            "INFO:tensorflow:*** Available Device: _DeviceAttributes(/job:localhost/replica:0/task:0/device:CPU:0, CPU, 0, 0)\n"
          ],
          "name": "stderr"
        },
        {
          "output_type": "stream",
          "text": [
            "INFO:tensorflow:*** Available Device: _DeviceAttributes(/job:worker/replica:0/task:0/device:CPU:0, CPU, 0, 0)\n"
          ],
          "name": "stdout"
        },
        {
          "output_type": "stream",
          "text": [
            "INFO:tensorflow:*** Available Device: _DeviceAttributes(/job:worker/replica:0/task:0/device:CPU:0, CPU, 0, 0)\n"
          ],
          "name": "stderr"
        },
        {
          "output_type": "stream",
          "text": [
            "INFO:tensorflow:*** Available Device: _DeviceAttributes(/job:worker/replica:0/task:0/device:TPU:0, TPU, 0, 0)\n"
          ],
          "name": "stdout"
        },
        {
          "output_type": "stream",
          "text": [
            "INFO:tensorflow:*** Available Device: _DeviceAttributes(/job:worker/replica:0/task:0/device:TPU:0, TPU, 0, 0)\n"
          ],
          "name": "stderr"
        },
        {
          "output_type": "stream",
          "text": [
            "INFO:tensorflow:*** Available Device: _DeviceAttributes(/job:worker/replica:0/task:0/device:TPU:1, TPU, 0, 0)\n"
          ],
          "name": "stdout"
        },
        {
          "output_type": "stream",
          "text": [
            "INFO:tensorflow:*** Available Device: _DeviceAttributes(/job:worker/replica:0/task:0/device:TPU:1, TPU, 0, 0)\n"
          ],
          "name": "stderr"
        },
        {
          "output_type": "stream",
          "text": [
            "INFO:tensorflow:*** Available Device: _DeviceAttributes(/job:worker/replica:0/task:0/device:TPU:2, TPU, 0, 0)\n"
          ],
          "name": "stdout"
        },
        {
          "output_type": "stream",
          "text": [
            "INFO:tensorflow:*** Available Device: _DeviceAttributes(/job:worker/replica:0/task:0/device:TPU:2, TPU, 0, 0)\n"
          ],
          "name": "stderr"
        },
        {
          "output_type": "stream",
          "text": [
            "INFO:tensorflow:*** Available Device: _DeviceAttributes(/job:worker/replica:0/task:0/device:TPU:3, TPU, 0, 0)\n"
          ],
          "name": "stdout"
        },
        {
          "output_type": "stream",
          "text": [
            "INFO:tensorflow:*** Available Device: _DeviceAttributes(/job:worker/replica:0/task:0/device:TPU:3, TPU, 0, 0)\n"
          ],
          "name": "stderr"
        },
        {
          "output_type": "stream",
          "text": [
            "INFO:tensorflow:*** Available Device: _DeviceAttributes(/job:worker/replica:0/task:0/device:TPU:4, TPU, 0, 0)\n"
          ],
          "name": "stdout"
        },
        {
          "output_type": "stream",
          "text": [
            "INFO:tensorflow:*** Available Device: _DeviceAttributes(/job:worker/replica:0/task:0/device:TPU:4, TPU, 0, 0)\n"
          ],
          "name": "stderr"
        },
        {
          "output_type": "stream",
          "text": [
            "INFO:tensorflow:*** Available Device: _DeviceAttributes(/job:worker/replica:0/task:0/device:TPU:5, TPU, 0, 0)\n"
          ],
          "name": "stdout"
        },
        {
          "output_type": "stream",
          "text": [
            "INFO:tensorflow:*** Available Device: _DeviceAttributes(/job:worker/replica:0/task:0/device:TPU:5, TPU, 0, 0)\n"
          ],
          "name": "stderr"
        },
        {
          "output_type": "stream",
          "text": [
            "INFO:tensorflow:*** Available Device: _DeviceAttributes(/job:worker/replica:0/task:0/device:TPU:6, TPU, 0, 0)\n"
          ],
          "name": "stdout"
        },
        {
          "output_type": "stream",
          "text": [
            "INFO:tensorflow:*** Available Device: _DeviceAttributes(/job:worker/replica:0/task:0/device:TPU:6, TPU, 0, 0)\n"
          ],
          "name": "stderr"
        },
        {
          "output_type": "stream",
          "text": [
            "INFO:tensorflow:*** Available Device: _DeviceAttributes(/job:worker/replica:0/task:0/device:TPU:7, TPU, 0, 0)\n"
          ],
          "name": "stdout"
        },
        {
          "output_type": "stream",
          "text": [
            "INFO:tensorflow:*** Available Device: _DeviceAttributes(/job:worker/replica:0/task:0/device:TPU:7, TPU, 0, 0)\n"
          ],
          "name": "stderr"
        },
        {
          "output_type": "stream",
          "text": [
            "INFO:tensorflow:*** Available Device: _DeviceAttributes(/job:worker/replica:0/task:0/device:TPU_SYSTEM:0, TPU_SYSTEM, 0, 0)\n"
          ],
          "name": "stdout"
        },
        {
          "output_type": "stream",
          "text": [
            "INFO:tensorflow:*** Available Device: _DeviceAttributes(/job:worker/replica:0/task:0/device:TPU_SYSTEM:0, TPU_SYSTEM, 0, 0)\n"
          ],
          "name": "stderr"
        },
        {
          "output_type": "stream",
          "text": [
            "INFO:tensorflow:*** Available Device: _DeviceAttributes(/job:worker/replica:0/task:0/device:XLA_CPU:0, XLA_CPU, 0, 0)\n"
          ],
          "name": "stdout"
        },
        {
          "output_type": "stream",
          "text": [
            "INFO:tensorflow:*** Available Device: _DeviceAttributes(/job:worker/replica:0/task:0/device:XLA_CPU:0, XLA_CPU, 0, 0)\n"
          ],
          "name": "stderr"
        },
        {
          "output_type": "stream",
          "text": [
            "Running on TPU: grpc://10.112.255.250:8470\n",
            "Running on 8 replicas\n"
          ],
          "name": "stdout"
        }
      ]
    },
    {
      "cell_type": "code",
      "metadata": {
        "colab": {
          "base_uri": "https://localhost:8080/"
        },
        "id": "ub_StX_SAHne",
        "outputId": "4b5a30f7-5948-4236-f339-11af014e1fe9"
      },
      "source": [
        "# Listing Devices\r\n",
        "from tensorflow.python.client import device_lib\r\n",
        "device_lib.list_local_devices()"
      ],
      "execution_count": 2,
      "outputs": [
        {
          "output_type": "execute_result",
          "data": {
            "text/plain": [
              "[name: \"/device:CPU:0\"\n",
              " device_type: \"CPU\"\n",
              " memory_limit: 268435456\n",
              " locality {\n",
              " }\n",
              " incarnation: 5514107256964682268]"
            ]
          },
          "metadata": {
            "tags": []
          },
          "execution_count": 2
        }
      ]
    },
    {
      "cell_type": "code",
      "metadata": {
        "colab": {
          "base_uri": "https://localhost:8080/",
          "height": 35
        },
        "id": "8MgQBwwiAMWT",
        "outputId": "c24ffada-08c0-402a-f338-ec79a3263588"
      },
      "source": [
        "# Testing for GPU\r\n",
        "tf.test.gpu_device_name()"
      ],
      "execution_count": 3,
      "outputs": [
        {
          "output_type": "execute_result",
          "data": {
            "application/vnd.google.colaboratory.intrinsic+json": {
              "type": "string"
            },
            "text/plain": [
              "''"
            ]
          },
          "metadata": {
            "tags": []
          },
          "execution_count": 3
        }
      ]
    },
    {
      "cell_type": "markdown",
      "metadata": {
        "id": "pRmp45qYY1NJ"
      },
      "source": [
        "## Import libraries"
      ]
    },
    {
      "cell_type": "code",
      "metadata": {
        "id": "2Gj7cC2as8-6",
        "colab": {
          "base_uri": "https://localhost:8080/"
        },
        "outputId": "d967fd8f-9319-4b96-e9a5-3632cdce4696"
      },
      "source": [
        "# http://scikit.ml/stratification.html\r\n",
        "# http://scikit.ml/api/skmultilearn.model_selection.iterative_stratification.html#skmultilearn.model_selection.iterative_stratification.iterative_train_test_split\r\n",
        "!pip install scikit-multilearn"
      ],
      "execution_count": 4,
      "outputs": [
        {
          "output_type": "stream",
          "text": [
            "Requirement already satisfied: scikit-multilearn in /usr/local/lib/python3.7/dist-packages (0.2.0)\n"
          ],
          "name": "stdout"
        }
      ]
    },
    {
      "cell_type": "code",
      "metadata": {
        "id": "Ufm6-06eCxnA"
      },
      "source": [
        "import numpy as np\n",
        "import pandas as pd\n",
        "\n",
        "import gc\n",
        "import os\n",
        "from glob import glob\n",
        "from random import shuffle\n",
        "import cv2\n",
        "import datetime\n",
        "import matplotlib.pyplot as plt\n",
        "\n",
        "from albumentations import Compose, RandomRotate90, Transpose, Flip, OneOf, CLAHE, IAASharpen, IAAEmboss, RandomBrightnessContrast, JpegCompression, Blur, GaussNoise, HueSaturationValue, ShiftScaleRotate, Normalize\n",
        "\n",
        "from sklearn.model_selection import train_test_split, KFold\n",
        "from skmultilearn.model_selection import iterative_train_test_split, IterativeStratification\n",
        "\n",
        "import tensorflow as tf\n",
        "from tensorflow.keras import Model\n",
        "from tensorflow.keras.applications import Xception, EfficientNetB0, EfficientNetB1, EfficientNetB2, EfficientNetB3, EfficientNetB4, EfficientNetB5, EfficientNetB6, EfficientNetB7, ResNet152V2\n",
        "from tensorflow.keras.losses import binary_crossentropy\n",
        "from tensorflow.keras.callbacks import ModelCheckpoint, EarlyStopping, ReduceLROnPlateau, TerminateOnNaN, LearningRateScheduler\n",
        "from tensorflow.keras.layers import Lambda, Reshape, DepthwiseConv2D, ZeroPadding2D, Add, MaxPooling2D,Activation, Flatten, Conv2D, Dense, Input, Dropout, Concatenate, GlobalMaxPooling2D, GlobalAveragePooling2D, BatchNormalization\n",
        "from tensorflow.keras.optimizers import Adam\n",
        "from tensorflow.keras import regularizers\n",
        "from tensorflow.keras import backend as K\n",
        "\n",
        "os.environ['TF_CPP_MIN_LOG_LEVEL'] = '2'"
      ],
      "execution_count": 5,
      "outputs": []
    },
    {
      "cell_type": "markdown",
      "metadata": {
        "id": "jg6uFuRPJBFX"
      },
      "source": [
        "For reproducibility:"
      ]
    },
    {
      "cell_type": "code",
      "metadata": {
        "id": "mb5A1QoejOVy"
      },
      "source": [
        "SEED = 42\r\n",
        "\r\n",
        "os.environ['PYTHONHASHSEED'] = str(SEED)\r\n",
        "np.random.seed(SEED)\r\n",
        "tf.random.set_seed(SEED)"
      ],
      "execution_count": 6,
      "outputs": []
    },
    {
      "cell_type": "markdown",
      "metadata": {
        "id": "j3YbTNckY4ua"
      },
      "source": [
        "## Functions"
      ]
    },
    {
      "cell_type": "markdown",
      "metadata": {
        "id": "FARFLMY4ISqM"
      },
      "source": [
        "### Build Dataset"
      ]
    },
    {
      "cell_type": "code",
      "metadata": {
        "id": "7_7AdBHLCa8k"
      },
      "source": [
        "def build_decoder(target_size, with_labels=True, ext='jpg'):\r\n",
        "    def decode(path):\r\n",
        "        file_bytes = tf.io.read_file(path) # Reads and outputs the entire contents of the input filename.\r\n",
        "\r\n",
        "        if ext == 'png':\r\n",
        "            img = tf.image.decode_png(file_bytes, channels=3) # Decode a PNG-encoded image to a uint8 or uint16 tensor\r\n",
        "        elif ext in ['jpg', 'jpeg']:\r\n",
        "            img = tf.image.decode_jpeg(file_bytes, channels=3) # Decode a JPEG-encoded image to a uint8 tensor\r\n",
        "        else:\r\n",
        "            raise ValueError(\"Image extension not supported\")\r\n",
        "\r\n",
        "        img = tf.cast(img, tf.float32) / 255.0 # Casts a tensor to the type float32 and divides by 255.\r\n",
        "        img = tf.image.resize(img, target_size) # Resizing to target size\r\n",
        "        return img\r\n",
        "    \r\n",
        "    def decode_with_labels(path, label):\r\n",
        "        return decode(path), label\r\n",
        "    \r\n",
        "    return decode_with_labels if with_labels else decode\r\n",
        "\r\n",
        "def build_augmenter(with_labels=True):\r\n",
        "  def augment(img):\r\n",
        "      img = tf.image.random_flip_left_right(img)\r\n",
        "      img = tf.image.random_flip_up_down(img)\r\n",
        "      img = tf.image.random_saturation(img, 0.8, 1.2)\r\n",
        "      img = tf.image.random_brightness(img, 0.2)\r\n",
        "      img = tf.image.random_contrast(img, 0.8, 1.2)\r\n",
        "      img = tf.image.random_hue(img, 0.2)\r\n",
        "      return img\r\n",
        "  \r\n",
        "  def augment_with_labels(img, label):\r\n",
        "      return augment(img), label\r\n",
        "  \r\n",
        "  return augment_with_labels if with_labels else augment\r\n",
        "\r\n",
        "def build_dataset(paths, labels=None, bsize=32, cache=True,\r\n",
        "                  decode_fn=None, augment_fn=None,\r\n",
        "                  augment=True, repeat=True, shuffle=1024, \r\n",
        "                  cache_dir=\"\"):\r\n",
        "    if cache_dir != \"\" and cache is True:\r\n",
        "        os.makedirs(cache_dir, exist_ok=True)\r\n",
        "    \r\n",
        "    if decode_fn is None:\r\n",
        "        decode_fn = build_decoder(labels is not None)\r\n",
        "    \r\n",
        "    if augment_fn is None:\r\n",
        "        augment_fn = build_augmenter(labels is not None)\r\n",
        "    \r\n",
        "    AUTO = tf.data.experimental.AUTOTUNE\r\n",
        "    slices = paths if labels is None else (paths, labels)\r\n",
        "    \r\n",
        "    dset = tf.data.Dataset.from_tensor_slices(slices)\r\n",
        "    dset = dset.map(decode_fn, num_parallel_calls=AUTO)\r\n",
        "    dset = dset.cache(cache_dir) if cache else dset\r\n",
        "    dset = dset.map(augment_fn, num_parallel_calls=AUTO) if augment else dset\r\n",
        "    dset = dset.repeat() if repeat else dset\r\n",
        "    dset = dset.shuffle(shuffle) if shuffle else dset\r\n",
        "    dset = dset.batch(bsize).prefetch(AUTO) # overlaps data preprocessing and model execution while training\r\n",
        "    return dset"
      ],
      "execution_count": 7,
      "outputs": []
    },
    {
      "cell_type": "markdown",
      "metadata": {
        "id": "XPENwlyLJN-J"
      },
      "source": [
        "### Model"
      ]
    },
    {
      "cell_type": "code",
      "metadata": {
        "id": "IQRpVRq4JNfx"
      },
      "source": [
        "def get_model(architecture, img_size, n_classes):\r\n",
        "  if architecture == \"Xception\":\r\n",
        "    net = Xception(include_top=False,input_shape=(img_size, img_size, 3), weights='imagenet')\r\n",
        "  elif architecture == \"ResNet152V2\":\r\n",
        "    net = ResNet152V2(include_top=False,input_shape=(img_size, img_size, 3), weights='imagenet')\r\n",
        "  elif architecture == \"EfficientNetB0\":\r\n",
        "    net = EfficientNetB0(include_top=False,input_shape=(img_size, img_size, 3), weights='imagenet')\r\n",
        "  elif architecture == \"EfficientNetB1\":\r\n",
        "    net = EfficientNetB1(include_top=False,input_shape=(img_size, img_size, 3), weights='imagenet')\r\n",
        "  elif architecture == \"EfficientNetB2\":\r\n",
        "    net = EfficientNetB2(include_top=False,input_shape=(img_size, img_size, 3), weights='imagenet')\r\n",
        "  elif architecture == \"EfficientNetB3\":\r\n",
        "    net = EfficientNetB3(include_top=False,input_shape=(img_size, img_size, 3), weights='imagenet')\r\n",
        "  elif architecture == \"EfficientNetB4\":\r\n",
        "    net = EfficientNetB4(include_top=False,input_shape=(img_size, img_size, 3), weights='imagenet')\r\n",
        "  elif architecture == \"EfficientNetB5\":\r\n",
        "    net = EfficientNetB5(include_top=False,input_shape=(img_size, img_size, 3), weights='imagenet')\r\n",
        "  elif architecture == \"EfficientNetB6\":\r\n",
        "    net = EfficientNetB6(include_top=False,input_shape=(img_size, img_size, 3), weights='imagenet')\r\n",
        "  elif architecture == \"EfficientNetB7\":\r\n",
        "    net = EfficientNetB7(include_top=False,input_shape=(img_size, img_size, 3), weights='imagenet')\r\n",
        "  else:\r\n",
        "     raise BaseException(f\"The architecture {architecture} is not supported.\")\r\n",
        "  x = net.output\r\n",
        "  x = GlobalAveragePooling2D()(x)\r\n",
        "  x = Dense(256)(x)\r\n",
        "  x = BatchNormalization()(x)\r\n",
        "  x = Activation('relu')(x)\r\n",
        "  x = Dropout(0.3)(x)\r\n",
        "  output = Dense(n_classes, activation='sigmoid')(x)\r\n",
        "  model = Model(inputs=net.input, outputs=output)\r\n",
        "\r\n",
        "  return model\r\n",
        "\r\n",
        "def get_callbacks(model_path, lrfn):\r\n",
        "\r\n",
        "  callbacks = []\r\n",
        "\r\n",
        "  callbacks.append(TerminateOnNaN())\r\n",
        "\r\n",
        "  callbacks.append(EarlyStopping(\r\n",
        "        monitor='val_loss',\r\n",
        "        patience=5,\r\n",
        "        mode='min',\r\n",
        "        verbose=1,\r\n",
        "        restore_best_weights=True))\r\n",
        "\r\n",
        "  callbacks.append(ModelCheckpoint(\r\n",
        "        model_path,\r\n",
        "        monitor='val_loss',\r\n",
        "        verbose=1,\r\n",
        "        save_best_only=True,\r\n",
        "        mode='min'))\r\n",
        "\r\n",
        "  callbacks.append(ReduceLROnPlateau(\r\n",
        "        monitor='val_loss', \r\n",
        "        factor=0.8, \r\n",
        "        patience=2, \r\n",
        "        verbose=1, \r\n",
        "        mode='auto', \r\n",
        "        epsilon=0.0001, \r\n",
        "        cooldown=5, \r\n",
        "        min_lr=0.00001))\r\n",
        "  \r\n",
        "  if lrfn is not None:\r\n",
        "    callbacks.append(LearningRateScheduler(\r\n",
        "          lambda epoch: lrfn(epoch), \r\n",
        "          verbose=True))\r\n",
        "\r\n",
        "  return callbacks"
      ],
      "execution_count": 8,
      "outputs": []
    },
    {
      "cell_type": "markdown",
      "metadata": {
        "id": "wtfnwYH8YlrY"
      },
      "source": [
        "### Utils"
      ]
    },
    {
      "cell_type": "code",
      "metadata": {
        "id": "eX7z2YdAHAX7"
      },
      "source": [
        "def plot_metric(history_in, metric_name, results_dir):\n",
        "    \"\"\"\n",
        "    Plot a metric of model's history.\n",
        "    \"\"\"\n",
        "\n",
        "    fig_acc = plt.figure(figsize=(10, 10))\n",
        "    plt.plot(history_in.history[metric_name])\n",
        "    plt.plot(history_in.history['val_' + metric_name])\n",
        "\n",
        "    plt.title('model ' + metric_name)\n",
        "    plt.ylabel(metric_name)\n",
        "    plt.xlabel('epoch')\n",
        "    plt.legend(['train', 'validation'], loc='upper left')\n",
        "    fig_acc.savefig(os.path.join(results_dir, \"model_\" + metric_name + \".png\"))\n",
        "\n",
        "    plt.cla()\n",
        "    plt.close()\n",
        "\n",
        "\n",
        "def mkdir_if_not_exist(directory):\n",
        "\n",
        "        if not os.path.exists(directory):\n",
        "            try:\n",
        "                os.makedirs(directory)\n",
        "            except OSError as e:\n",
        "                print(\"Error: %s - %s.\" % (e.filename, e.strerror))"
      ],
      "execution_count": 9,
      "outputs": []
    },
    {
      "cell_type": "markdown",
      "metadata": {
        "id": "_QByTJjiEFGY"
      },
      "source": [
        "## Data Preparation"
      ]
    },
    {
      "cell_type": "code",
      "metadata": {
        "id": "Igr2qySaFEAm"
      },
      "source": [
        "GCS_DS_PATH = \"gs://kds-8fdde4eb643ffca87f4d2e302b48cea859367cad0b9a6e98d65c407a\""
      ],
      "execution_count": 10,
      "outputs": []
    },
    {
      "cell_type": "code",
      "metadata": {
        "colab": {
          "base_uri": "https://localhost:8080/"
        },
        "id": "s7fApdJ2EKxE",
        "outputId": "b0af0571-00c6-4efa-84e1-70d713cd3e55"
      },
      "source": [
        "df = pd.read_csv(\"/content/train.csv\")\n",
        "print(f\"{df.columns}\")\n",
        "print(len(df), df['StudyInstanceUID'].nunique())\n",
        "print('Number of Records:',len(df), 'Number of Patients:' ,df['PatientID'].nunique())"
      ],
      "execution_count": 11,
      "outputs": [
        {
          "output_type": "stream",
          "text": [
            "Index(['StudyInstanceUID', 'ETT - Abnormal', 'ETT - Borderline',\n",
            "       'ETT - Normal', 'NGT - Abnormal', 'NGT - Borderline',\n",
            "       'NGT - Incompletely Imaged', 'NGT - Normal', 'CVC - Abnormal',\n",
            "       'CVC - Borderline', 'CVC - Normal', 'Swan Ganz Catheter Present',\n",
            "       'PatientID'],\n",
            "      dtype='object')\n",
            "30083 30083\n",
            "Number of Records: 30083 Number of Patients: 3255\n"
          ],
          "name": "stdout"
        }
      ]
    },
    {
      "cell_type": "code",
      "metadata": {
        "colab": {
          "base_uri": "https://localhost:8080/",
          "height": 0
        },
        "id": "Bi_Gsp7CERSt",
        "outputId": "84e425b3-eb05-471c-a0a0-64ab71999629"
      },
      "source": [
        "paths = GCS_DS_PATH + \"/train/\" + df['StudyInstanceUID'] + '.jpg'\r\n",
        "paths[0]"
      ],
      "execution_count": 12,
      "outputs": [
        {
          "output_type": "execute_result",
          "data": {
            "application/vnd.google.colaboratory.intrinsic+json": {
              "type": "string"
            },
            "text/plain": [
              "'gs://kds-8fdde4eb643ffca87f4d2e302b48cea859367cad0b9a6e98d65c407a/train/1.2.826.0.1.3680043.8.498.26697628953273228189375557799582420561.jpg'"
            ]
          },
          "metadata": {
            "tags": []
          },
          "execution_count": 12
        }
      ]
    },
    {
      "cell_type": "code",
      "metadata": {
        "colab": {
          "base_uri": "https://localhost:8080/"
        },
        "id": "ZMVxLnlpEPlP",
        "outputId": "72ab0e26-8151-4143-f419-4776a7003200"
      },
      "source": [
        "# Get the multi-labels\n",
        "df_sub = pd.read_csv(\"/content/sample_submission.csv\")\n",
        "labels_cols = df_sub.columns[1:]\n",
        "n_classes = len(labels_cols)\n",
        "print(f\"{n_classes} - {labels_cols}\")"
      ],
      "execution_count": 13,
      "outputs": [
        {
          "output_type": "stream",
          "text": [
            "11 - Index(['ETT - Abnormal', 'ETT - Borderline', 'ETT - Normal', 'NGT - Abnormal',\n",
            "       'NGT - Borderline', 'NGT - Incompletely Imaged', 'NGT - Normal',\n",
            "       'CVC - Abnormal', 'CVC - Borderline', 'CVC - Normal',\n",
            "       'Swan Ganz Catheter Present'],\n",
            "      dtype='object')\n"
          ],
          "name": "stdout"
        }
      ]
    },
    {
      "cell_type": "code",
      "metadata": {
        "colab": {
          "base_uri": "https://localhost:8080/"
        },
        "id": "jqtTMHh2Gotv",
        "outputId": "4f1e5621-a337-49a4-c05f-76442b28ebb3"
      },
      "source": [
        "labels = df[labels_cols].values\r\n",
        "labels"
      ],
      "execution_count": 14,
      "outputs": [
        {
          "output_type": "execute_result",
          "data": {
            "text/plain": [
              "array([[0, 0, 0, ..., 0, 0, 0],\n",
              "       [0, 0, 1, ..., 0, 1, 0],\n",
              "       [0, 0, 0, ..., 1, 0, 0],\n",
              "       ...,\n",
              "       [0, 0, 1, ..., 0, 1, 0],\n",
              "       [0, 0, 0, ..., 1, 0, 0],\n",
              "       [0, 0, 1, ..., 0, 1, 0]])"
            ]
          },
          "metadata": {
            "tags": []
          },
          "execution_count": 14
        }
      ]
    },
    {
      "cell_type": "code",
      "metadata": {
        "id": "xlheqgW_EjAu"
      },
      "source": [
        "id_label_map = {k: v for k, v in zip(paths, labels)}"
      ],
      "execution_count": 15,
      "outputs": []
    },
    {
      "cell_type": "code",
      "metadata": {
        "cellView": "form",
        "id": "bWU8HV5SLkmp"
      },
      "source": [
        "#@title Configuration\r\n",
        "#@markdown \r\n",
        "train_limit = 30083  #@param {type: \"number\"}\r\n",
        "test_limit = 3582  #@param {type: \"number\"}\r\n",
        "img_size =  900#@param {type:\"integer\"}\r\n",
        "batch_size =   8#@param {type: \"integer\", min: 8, max: 128}\r\n"
      ],
      "execution_count": 16,
      "outputs": []
    },
    {
      "cell_type": "markdown",
      "metadata": {
        "id": "2oyW2FInLYoN"
      },
      "source": [
        "### Build train and validation datasets"
      ]
    },
    {
      "cell_type": "code",
      "metadata": {
        "colab": {
          "base_uri": "https://localhost:8080/"
        },
        "id": "By7tRC_ILYHD",
        "outputId": "6afa46c0-96c1-4ea6-f285-09c5bc5cf919"
      },
      "source": [
        "batch_size = strategy.num_replicas_in_sync * batch_size\r\n",
        "print(f\"Batch size: {batch_size}\")\r\n",
        "\r\n",
        "train_paths, valid_paths, train_labels, valid_labels = train_test_split(paths[0:train_limit], labels[0:train_limit], test_size=0.1, shuffle=True, random_state=SEED)\r\n",
        "print(f\"# Training images: {len(train_paths)}\")\r\n",
        "print(f\"# Validation images: {len(valid_paths)}\")\r\n",
        "print(f\"# Training steps: {len(train_paths) // batch_size}\")\r\n",
        "print(f\"# Validation steps: {len(valid_paths) // batch_size}\")"
      ],
      "execution_count": 17,
      "outputs": [
        {
          "output_type": "stream",
          "text": [
            "Batch size: 64\n",
            "# Training images: 27074\n",
            "# Validation images: 3009\n",
            "# Training steps: 423\n",
            "# Validation steps: 47\n"
          ],
          "name": "stdout"
        }
      ]
    },
    {
      "cell_type": "code",
      "metadata": {
        "colab": {
          "base_uri": "https://localhost:8080/"
        },
        "id": "Spw89aX_LkKK",
        "outputId": "9c9b7b0a-4f09-46f8-9466-6dedc2ffb02a"
      },
      "source": [
        "# Build the tensorflow datasets\r\n",
        "decoder = build_decoder(target_size=(img_size, img_size), with_labels=True)\r\n",
        "\r\n",
        "# Build the tensorflow datasets\r\n",
        "dtrain = build_dataset(\r\n",
        "    train_paths, train_labels, bsize=batch_size, decode_fn=decoder\r\n",
        ")\r\n",
        "\r\n",
        "dvalid = build_dataset(\r\n",
        "    valid_paths, valid_labels, bsize=batch_size, \r\n",
        "    repeat=False, shuffle=False, augment=False, decode_fn=decoder\r\n",
        ")\r\n",
        "\r\n",
        "dtrain"
      ],
      "execution_count": 18,
      "outputs": [
        {
          "output_type": "execute_result",
          "data": {
            "text/plain": [
              "<PrefetchDataset shapes: ((None, 900, 900, 3), (None, 11)), types: (tf.float32, tf.int64)>"
            ]
          },
          "metadata": {
            "tags": []
          },
          "execution_count": 18
        }
      ]
    },
    {
      "cell_type": "markdown",
      "metadata": {
        "id": "qQ6zYP7PY9lV"
      },
      "source": [
        "## Modeling"
      ]
    },
    {
      "cell_type": "code",
      "metadata": {
        "id": "J1b-EM9fm4tg"
      },
      "source": [
        "#@title Configuration\n",
        "#@markdown \n",
        "output_path = \"model\" #@param {type: \"string\"}\n",
        "epochs = 30#@param {type:\"integer\"}\n",
        "n_fold = 5  #@param {type: \"slider\", min: 2, max: 10}\n",
        "architecture = \"Xception\" #@param [\"Xception\", \"ResNet152V2\", \"EfficientNetB0\", \"EfficientNetB1\", \"EfficientNetB2\", \"EfficientNetB3\", \"EfficientNetB4\", \"EfficientNetB5\", \"EfficientNetB6\", \"EfficientNetB7\"]\n",
        "use_lr_strategy = True #@param {type:\"boolean\"}\n",
        "\n",
        "\n"
      ],
      "execution_count": 24,
      "outputs": []
    },
    {
      "cell_type": "markdown",
      "metadata": {
        "id": "auCH1CVHmZPt"
      },
      "source": [
        "Calculate and show a learning rate schedule. We start with a fairly low rate, as we're using a pre-trained model and don't want to undo all the fine work put into training it."
      ]
    },
    {
      "cell_type": "code",
      "metadata": {
        "colab": {
          "base_uri": "https://localhost:8080/",
          "height": 282
        },
        "id": "36kaUFfDT_i3",
        "outputId": "25afda9b-60d4-4d73-c170-0c371fbb44ad"
      },
      "source": [
        "start_lr = 0.00001\r\n",
        "min_lr = 0.00001\r\n",
        "max_lr = 0.00005 * strategy.num_replicas_in_sync\r\n",
        "rampup_epochs = 5\r\n",
        "sustain_epochs = 0\r\n",
        "exp_decay = .8\r\n",
        "\r\n",
        "def lrfn(epoch):\r\n",
        "  if epoch < rampup_epochs:\r\n",
        "    return (max_lr - start_lr)/rampup_epochs * epoch + start_lr\r\n",
        "  elif epoch < rampup_epochs + sustain_epochs:\r\n",
        "    return max_lr\r\n",
        "  else:\r\n",
        "    return (max_lr - min_lr) * exp_decay**(epoch-rampup_epochs-sustain_epochs) + min_lr\r\n",
        "    \r\n",
        "rang = np.arange(epochs)\r\n",
        "y = [lrfn(x) for x in rang]\r\n",
        "plt.plot(rang, y)\r\n",
        "print('Learning rate per epoch:')"
      ],
      "execution_count": 20,
      "outputs": [
        {
          "output_type": "stream",
          "text": [
            "Learning rate per epoch:\n"
          ],
          "name": "stdout"
        },
        {
          "output_type": "display_data",
          "data": {
            "image/png": "[encoded data removed]",
            "text/plain": [
              "<Figure size 432x288 with 1 Axes>"
            ]
          },
          "metadata": {
            "tags": [],
            "needs_background": "light"
          }
        }
      ]
    },
    {
      "cell_type": "markdown",
      "metadata": {
        "id": "Fwp8FfHZ1L0T"
      },
      "source": [
        "### Single model\r\n",
        "To get maxmimum accuracy, we leverage a pretrained image recognition model. We drop the ImageNet-specific top layers (`include_top=false`), and add a max pooling and a softmax layer to predict our 11 classes."
      ]
    },
    {
      "cell_type": "code",
      "metadata": {
        "id": "YlrxrAFQ22JG"
      },
      "source": [
        "with strategy.scope():\n",
        "  model = get_model(architecture, img_size, n_classes)\n",
        "  model.compile(tf.optimizers.Adam(lr=1e-4),\n",
        "                loss='binary_crossentropy',\n",
        "                metrics=[tf.keras.metrics.AUC(name=\"auc\", multi_label=True)])"
      ],
      "execution_count": 25,
      "outputs": []
    },
    {
      "cell_type": "code",
      "metadata": {
        "colab": {
          "base_uri": "https://localhost:8080/"
        },
        "id": "5D-lSKfP9JXG",
        "outputId": "98ff4c87-b55b-4bc4-ff28-f1c1e17ded64"
      },
      "source": [
        "path = os.path.join(\"output_path\", \"single_model\")\n",
        "mkdir_if_not_exist(path)\n",
        "model_path = os.path.join(path, f\"{architecture}_model.h5\")\n",
        "\n",
        "lr_strategy=lrfn if use_lr_strategy else None\n",
        "callbacks = get_callbacks(model_path, lr_strategy)\n",
        "\n",
        "with strategy.scope():\n",
        "  history = model.fit(\n",
        "          dtrain,\n",
        "          validation_data=dvalid,\n",
        "          epochs=epochs, \n",
        "          verbose=1,\n",
        "          callbacks=callbacks,\n",
        "          steps_per_epoch=len(train_paths) // batch_size,\n",
        "          validation_steps=len(valid_paths) // batch_size)\n",
        "\n",
        "  # summarize history\n",
        "  plot_metric(history, 'loss', path)\n",
        "  plot_metric(history, 'auc', path)\n",
        "\n",
        "# To avoid timeout \n",
        "print(\"Avoiding timeout...\")\n",
        "while True:pass"
      ],
      "execution_count": null,
      "outputs": [
        {
          "output_type": "stream",
          "text": [
            "WARNING:tensorflow:`epsilon` argument is deprecated and will be removed, use `min_delta` instead.\n"
          ],
          "name": "stdout"
        },
        {
          "output_type": "stream",
          "text": [
            "WARNING:tensorflow:`epsilon` argument is deprecated and will be removed, use `min_delta` instead.\n"
          ],
          "name": "stderr"
        },
        {
          "output_type": "stream",
          "text": [
            "Epoch 1/30\n",
            "\n",
            "Epoch 00001: LearningRateScheduler reducing learning rate to 1e-05.\n"
          ],
          "name": "stdout"
        }
      ]
    },
    {
      "cell_type": "code",
      "metadata": {
        "id": "xJj9CAJ_G-ru"
      },
      "source": [
        "from google.colab import files\r\n",
        "files.download(model_path) "
      ],
      "execution_count": null,
      "outputs": []
    },
    {
      "cell_type": "markdown",
      "metadata": {
        "id": "MqqEKrAvtfgc"
      },
      "source": [
        "### Single model predictions"
      ]
    },
    {
      "cell_type": "code",
      "metadata": {
        "id": "F9oQpLJ8sZmN"
      },
      "source": [
        "with strategy.scope():\r\n",
        "    model = tf.keras.models.load_model(model_path)"
      ],
      "execution_count": null,
      "outputs": []
    },
    {
      "cell_type": "code",
      "metadata": {
        "colab": {
          "base_uri": "https://localhost:8080/"
        },
        "id": "nfs3FFTjs6b9",
        "outputId": "e2ab605f-be83-459c-c28b-8a345389ab4b"
      },
      "source": [
        "test_decoder = build_decoder(with_labels=False, target_size=(img_size, img_size))\r\n",
        "\r\n",
        "df_sub = pd.read_csv(\"/content/sample_submission.csv\")\r\n",
        "test_paths = GCS_DS_PATH + \"test/\" + df_sub['StudyInstanceUID'] + '.jpg'\r\n",
        "\r\n",
        "dtest = build_dataset(\r\n",
        "    test_paths, bsize=batch_size, repeat=False, \r\n",
        "    shuffle=False, augment=False, cache=False, \r\n",
        "    decode_fn=test_decoder\r\n",
        ")\r\n",
        "dtest"
      ],
      "execution_count": null,
      "outputs": [
        {
          "output_type": "execute_result",
          "data": {
            "text/plain": [
              "<PrefetchDataset shapes: (None, 512, 512, 3), types: tf.float32>"
            ]
          },
          "metadata": {
            "tags": []
          },
          "execution_count": 24
        }
      ]
    },
    {
      "cell_type": "code",
      "metadata": {
        "colab": {
          "base_uri": "https://localhost:8080/",
          "height": 324
        },
        "id": "25qF-JULtk3L",
        "outputId": "a9218990-0811-4ddc-c31e-8845d54d3da5"
      },
      "source": [
        "y_preds = model.predict(dtest, verbose=1)"
      ],
      "execution_count": null,
      "outputs": [
        {
          "output_type": "stream",
          "text": [
            "19/56 [=========>....................] - ETA: 1:53"
          ],
          "name": "stdout"
        },
        {
          "output_type": "error",
          "ename": "KeyboardInterrupt",
          "evalue": "ignored",
          "traceback": [
            "\u001b[0;31m---------------------------------------------------------------------------\u001b[0m",
            "\u001b[0;31mKeyboardInterrupt\u001b[0m                         Traceback (most recent call last)",
            "\u001b[0;32m<ipython-input-25-1a91e1d48ea2>\u001b[0m in \u001b[0;36m<module>\u001b[0;34m()\u001b[0m\n\u001b[0;32m----> 1\u001b[0;31m \u001b[0my_preds\u001b[0m \u001b[0;34m=\u001b[0m \u001b[0mmodel\u001b[0m\u001b[0;34m.\u001b[0m\u001b[0mpredict\u001b[0m\u001b[0;34m(\u001b[0m\u001b[0mdtest\u001b[0m\u001b[0;34m,\u001b[0m \u001b[0mverbose\u001b[0m\u001b[0;34m=\u001b[0m\u001b[0;36m1\u001b[0m\u001b[0;34m)\u001b[0m\u001b[0;34m\u001b[0m\u001b[0;34m\u001b[0m\u001b[0m\n\u001b[0m",
            "\u001b[0;32m/usr/local/lib/python3.7/dist-packages/tensorflow/python/keras/engine/training.py\u001b[0m in \u001b[0;36mpredict\u001b[0;34m(self, x, batch_size, verbose, steps, callbacks, max_queue_size, workers, use_multiprocessing)\u001b[0m\n\u001b[1;32m   1640\u001b[0m                   outputs, batch_outputs)\n\u001b[1;32m   1641\u001b[0m             \u001b[0mend_step\u001b[0m \u001b[0;34m=\u001b[0m \u001b[0mstep\u001b[0m \u001b[0;34m+\u001b[0m \u001b[0mdata_handler\u001b[0m\u001b[0;34m.\u001b[0m\u001b[0mstep_increment\u001b[0m\u001b[0;34m\u001b[0m\u001b[0;34m\u001b[0m\u001b[0m\n\u001b[0;32m-> 1642\u001b[0;31m             \u001b[0mcallbacks\u001b[0m\u001b[0;34m.\u001b[0m\u001b[0mon_predict_batch_end\u001b[0m\u001b[0;34m(\u001b[0m\u001b[0mend_step\u001b[0m\u001b[0;34m,\u001b[0m \u001b[0;34m{\u001b[0m\u001b[0;34m'outputs'\u001b[0m\u001b[0;34m:\u001b[0m \u001b[0mbatch_outputs\u001b[0m\u001b[0;34m}\u001b[0m\u001b[0;34m)\u001b[0m\u001b[0;34m\u001b[0m\u001b[0;34m\u001b[0m\u001b[0m\n\u001b[0m\u001b[1;32m   1643\u001b[0m       \u001b[0;32mif\u001b[0m \u001b[0mbatch_outputs\u001b[0m \u001b[0;32mis\u001b[0m \u001b[0;32mNone\u001b[0m\u001b[0;34m:\u001b[0m\u001b[0;34m\u001b[0m\u001b[0;34m\u001b[0m\u001b[0m\n\u001b[1;32m   1644\u001b[0m         \u001b[0;32mraise\u001b[0m \u001b[0mValueError\u001b[0m\u001b[0;34m(\u001b[0m\u001b[0;34m'Expect x to be a non-empty array or dataset.'\u001b[0m\u001b[0;34m)\u001b[0m\u001b[0;34m\u001b[0m\u001b[0;34m\u001b[0m\u001b[0m\n",
            "\u001b[0;32m/usr/local/lib/python3.7/dist-packages/tensorflow/python/keras/callbacks.py\u001b[0m in \u001b[0;36mon_predict_batch_end\u001b[0;34m(self, batch, logs)\u001b[0m\n\u001b[1;32m    496\u001b[0m     \"\"\"\n\u001b[1;32m    497\u001b[0m     \u001b[0;32mif\u001b[0m \u001b[0mself\u001b[0m\u001b[0;34m.\u001b[0m\u001b[0m_should_call_predict_batch_hooks\u001b[0m\u001b[0;34m:\u001b[0m\u001b[0;34m\u001b[0m\u001b[0;34m\u001b[0m\u001b[0m\n\u001b[0;32m--> 498\u001b[0;31m       \u001b[0mself\u001b[0m\u001b[0;34m.\u001b[0m\u001b[0m_call_batch_hook\u001b[0m\u001b[0;34m(\u001b[0m\u001b[0mModeKeys\u001b[0m\u001b[0;34m.\u001b[0m\u001b[0mPREDICT\u001b[0m\u001b[0;34m,\u001b[0m \u001b[0;34m'end'\u001b[0m\u001b[0;34m,\u001b[0m \u001b[0mbatch\u001b[0m\u001b[0;34m,\u001b[0m \u001b[0mlogs\u001b[0m\u001b[0;34m=\u001b[0m\u001b[0mlogs\u001b[0m\u001b[0;34m)\u001b[0m\u001b[0;34m\u001b[0m\u001b[0;34m\u001b[0m\u001b[0m\n\u001b[0m\u001b[1;32m    499\u001b[0m \u001b[0;34m\u001b[0m\u001b[0m\n\u001b[1;32m    500\u001b[0m   \u001b[0;32mdef\u001b[0m \u001b[0mon_train_begin\u001b[0m\u001b[0;34m(\u001b[0m\u001b[0mself\u001b[0m\u001b[0;34m,\u001b[0m \u001b[0mlogs\u001b[0m\u001b[0;34m=\u001b[0m\u001b[0;32mNone\u001b[0m\u001b[0;34m)\u001b[0m\u001b[0;34m:\u001b[0m\u001b[0;34m\u001b[0m\u001b[0;34m\u001b[0m\u001b[0m\n",
            "\u001b[0;32m/usr/local/lib/python3.7/dist-packages/tensorflow/python/keras/callbacks.py\u001b[0m in \u001b[0;36m_call_batch_hook\u001b[0;34m(self, mode, hook, batch, logs)\u001b[0m\n\u001b[1;32m    294\u001b[0m       \u001b[0mself\u001b[0m\u001b[0;34m.\u001b[0m\u001b[0m_call_batch_begin_hook\u001b[0m\u001b[0;34m(\u001b[0m\u001b[0mmode\u001b[0m\u001b[0;34m,\u001b[0m \u001b[0mbatch\u001b[0m\u001b[0;34m,\u001b[0m \u001b[0mlogs\u001b[0m\u001b[0;34m)\u001b[0m\u001b[0;34m\u001b[0m\u001b[0;34m\u001b[0m\u001b[0m\n\u001b[1;32m    295\u001b[0m     \u001b[0;32melif\u001b[0m \u001b[0mhook\u001b[0m \u001b[0;34m==\u001b[0m \u001b[0;34m'end'\u001b[0m\u001b[0;34m:\u001b[0m\u001b[0;34m\u001b[0m\u001b[0;34m\u001b[0m\u001b[0m\n\u001b[0;32m--> 296\u001b[0;31m       \u001b[0mself\u001b[0m\u001b[0;34m.\u001b[0m\u001b[0m_call_batch_end_hook\u001b[0m\u001b[0;34m(\u001b[0m\u001b[0mmode\u001b[0m\u001b[0;34m,\u001b[0m \u001b[0mbatch\u001b[0m\u001b[0;34m,\u001b[0m \u001b[0mlogs\u001b[0m\u001b[0;34m)\u001b[0m\u001b[0;34m\u001b[0m\u001b[0;34m\u001b[0m\u001b[0m\n\u001b[0m\u001b[1;32m    297\u001b[0m     \u001b[0;32melse\u001b[0m\u001b[0;34m:\u001b[0m\u001b[0;34m\u001b[0m\u001b[0;34m\u001b[0m\u001b[0m\n\u001b[1;32m    298\u001b[0m       \u001b[0;32mraise\u001b[0m \u001b[0mValueError\u001b[0m\u001b[0;34m(\u001b[0m\u001b[0;34m'Unrecognized hook: {}'\u001b[0m\u001b[0;34m.\u001b[0m\u001b[0mformat\u001b[0m\u001b[0;34m(\u001b[0m\u001b[0mhook\u001b[0m\u001b[0;34m)\u001b[0m\u001b[0;34m)\u001b[0m\u001b[0;34m\u001b[0m\u001b[0;34m\u001b[0m\u001b[0m\n",
            "\u001b[0;32m/usr/local/lib/python3.7/dist-packages/tensorflow/python/keras/callbacks.py\u001b[0m in \u001b[0;36m_call_batch_end_hook\u001b[0;34m(self, mode, batch, logs)\u001b[0m\n\u001b[1;32m    314\u001b[0m       \u001b[0mself\u001b[0m\u001b[0;34m.\u001b[0m\u001b[0m_batch_times\u001b[0m\u001b[0;34m.\u001b[0m\u001b[0mappend\u001b[0m\u001b[0;34m(\u001b[0m\u001b[0mbatch_time\u001b[0m\u001b[0;34m)\u001b[0m\u001b[0;34m\u001b[0m\u001b[0;34m\u001b[0m\u001b[0m\n\u001b[1;32m    315\u001b[0m \u001b[0;34m\u001b[0m\u001b[0m\n\u001b[0;32m--> 316\u001b[0;31m     \u001b[0mself\u001b[0m\u001b[0;34m.\u001b[0m\u001b[0m_call_batch_hook_helper\u001b[0m\u001b[0;34m(\u001b[0m\u001b[0mhook_name\u001b[0m\u001b[0;34m,\u001b[0m \u001b[0mbatch\u001b[0m\u001b[0;34m,\u001b[0m \u001b[0mlogs\u001b[0m\u001b[0;34m)\u001b[0m\u001b[0;34m\u001b[0m\u001b[0;34m\u001b[0m\u001b[0m\n\u001b[0m\u001b[1;32m    317\u001b[0m \u001b[0;34m\u001b[0m\u001b[0m\n\u001b[1;32m    318\u001b[0m     \u001b[0;32mif\u001b[0m \u001b[0mlen\u001b[0m\u001b[0;34m(\u001b[0m\u001b[0mself\u001b[0m\u001b[0;34m.\u001b[0m\u001b[0m_batch_times\u001b[0m\u001b[0;34m)\u001b[0m \u001b[0;34m>=\u001b[0m \u001b[0mself\u001b[0m\u001b[0;34m.\u001b[0m\u001b[0m_num_batches_for_timing_check\u001b[0m\u001b[0;34m:\u001b[0m\u001b[0;34m\u001b[0m\u001b[0;34m\u001b[0m\u001b[0m\n",
            "\u001b[0;32m/usr/local/lib/python3.7/dist-packages/tensorflow/python/keras/callbacks.py\u001b[0m in \u001b[0;36m_call_batch_hook_helper\u001b[0;34m(self, hook_name, batch, logs)\u001b[0m\n\u001b[1;32m    357\u001b[0m       \u001b[0;32melse\u001b[0m\u001b[0;34m:\u001b[0m\u001b[0;34m\u001b[0m\u001b[0;34m\u001b[0m\u001b[0m\n\u001b[1;32m    358\u001b[0m         \u001b[0;32mif\u001b[0m \u001b[0mnumpy_logs\u001b[0m \u001b[0;32mis\u001b[0m \u001b[0;32mNone\u001b[0m\u001b[0;34m:\u001b[0m  \u001b[0;31m# Only convert once.\u001b[0m\u001b[0;34m\u001b[0m\u001b[0;34m\u001b[0m\u001b[0m\n\u001b[0;32m--> 359\u001b[0;31m           \u001b[0mnumpy_logs\u001b[0m \u001b[0;34m=\u001b[0m \u001b[0mtf_utils\u001b[0m\u001b[0;34m.\u001b[0m\u001b[0mto_numpy_or_python_type\u001b[0m\u001b[0;34m(\u001b[0m\u001b[0mlogs\u001b[0m\u001b[0;34m)\u001b[0m\u001b[0;34m\u001b[0m\u001b[0;34m\u001b[0m\u001b[0m\n\u001b[0m\u001b[1;32m    360\u001b[0m         \u001b[0mhook\u001b[0m\u001b[0;34m(\u001b[0m\u001b[0mbatch\u001b[0m\u001b[0;34m,\u001b[0m \u001b[0mnumpy_logs\u001b[0m\u001b[0;34m)\u001b[0m\u001b[0;34m\u001b[0m\u001b[0;34m\u001b[0m\u001b[0m\n\u001b[1;32m    361\u001b[0m \u001b[0;34m\u001b[0m\u001b[0m\n",
            "\u001b[0;32m/usr/local/lib/python3.7/dist-packages/tensorflow/python/keras/utils/tf_utils.py\u001b[0m in \u001b[0;36mto_numpy_or_python_type\u001b[0;34m(tensors)\u001b[0m\n\u001b[1;32m    512\u001b[0m     \u001b[0;32mreturn\u001b[0m \u001b[0mt\u001b[0m  \u001b[0;31m# Don't turn ragged or sparse tensors to NumPy.\u001b[0m\u001b[0;34m\u001b[0m\u001b[0;34m\u001b[0m\u001b[0m\n\u001b[1;32m    513\u001b[0m \u001b[0;34m\u001b[0m\u001b[0m\n\u001b[0;32m--> 514\u001b[0;31m   \u001b[0;32mreturn\u001b[0m \u001b[0mnest\u001b[0m\u001b[0;34m.\u001b[0m\u001b[0mmap_structure\u001b[0m\u001b[0;34m(\u001b[0m\u001b[0m_to_single_numpy_or_python_type\u001b[0m\u001b[0;34m,\u001b[0m \u001b[0mtensors\u001b[0m\u001b[0;34m)\u001b[0m\u001b[0;34m\u001b[0m\u001b[0;34m\u001b[0m\u001b[0m\n\u001b[0m\u001b[1;32m    515\u001b[0m \u001b[0;34m\u001b[0m\u001b[0m\n\u001b[1;32m    516\u001b[0m \u001b[0;34m\u001b[0m\u001b[0m\n",
            "\u001b[0;32m/usr/local/lib/python3.7/dist-packages/tensorflow/python/util/nest.py\u001b[0m in \u001b[0;36mmap_structure\u001b[0;34m(func, *structure, **kwargs)\u001b[0m\n\u001b[1;32m    657\u001b[0m \u001b[0;34m\u001b[0m\u001b[0m\n\u001b[1;32m    658\u001b[0m   return pack_sequence_as(\n\u001b[0;32m--> 659\u001b[0;31m       \u001b[0mstructure\u001b[0m\u001b[0;34m[\u001b[0m\u001b[0;36m0\u001b[0m\u001b[0;34m]\u001b[0m\u001b[0;34m,\u001b[0m \u001b[0;34m[\u001b[0m\u001b[0mfunc\u001b[0m\u001b[0;34m(\u001b[0m\u001b[0;34m*\u001b[0m\u001b[0mx\u001b[0m\u001b[0;34m)\u001b[0m \u001b[0;32mfor\u001b[0m \u001b[0mx\u001b[0m \u001b[0;32min\u001b[0m \u001b[0mentries\u001b[0m\u001b[0;34m]\u001b[0m\u001b[0;34m,\u001b[0m\u001b[0;34m\u001b[0m\u001b[0;34m\u001b[0m\u001b[0m\n\u001b[0m\u001b[1;32m    660\u001b[0m       expand_composites=expand_composites)\n\u001b[1;32m    661\u001b[0m \u001b[0;34m\u001b[0m\u001b[0m\n",
            "\u001b[0;32m/usr/local/lib/python3.7/dist-packages/tensorflow/python/util/nest.py\u001b[0m in \u001b[0;36m<listcomp>\u001b[0;34m(.0)\u001b[0m\n\u001b[1;32m    657\u001b[0m \u001b[0;34m\u001b[0m\u001b[0m\n\u001b[1;32m    658\u001b[0m   return pack_sequence_as(\n\u001b[0;32m--> 659\u001b[0;31m       \u001b[0mstructure\u001b[0m\u001b[0;34m[\u001b[0m\u001b[0;36m0\u001b[0m\u001b[0;34m]\u001b[0m\u001b[0;34m,\u001b[0m \u001b[0;34m[\u001b[0m\u001b[0mfunc\u001b[0m\u001b[0;34m(\u001b[0m\u001b[0;34m*\u001b[0m\u001b[0mx\u001b[0m\u001b[0;34m)\u001b[0m \u001b[0;32mfor\u001b[0m \u001b[0mx\u001b[0m \u001b[0;32min\u001b[0m \u001b[0mentries\u001b[0m\u001b[0;34m]\u001b[0m\u001b[0;34m,\u001b[0m\u001b[0;34m\u001b[0m\u001b[0;34m\u001b[0m\u001b[0m\n\u001b[0m\u001b[1;32m    660\u001b[0m       expand_composites=expand_composites)\n\u001b[1;32m    661\u001b[0m \u001b[0;34m\u001b[0m\u001b[0m\n",
            "\u001b[0;32m/usr/local/lib/python3.7/dist-packages/tensorflow/python/keras/utils/tf_utils.py\u001b[0m in \u001b[0;36m_to_single_numpy_or_python_type\u001b[0;34m(t)\u001b[0m\n\u001b[1;32m    508\u001b[0m   \u001b[0;32mdef\u001b[0m \u001b[0m_to_single_numpy_or_python_type\u001b[0m\u001b[0;34m(\u001b[0m\u001b[0mt\u001b[0m\u001b[0;34m)\u001b[0m\u001b[0;34m:\u001b[0m\u001b[0;34m\u001b[0m\u001b[0;34m\u001b[0m\u001b[0m\n\u001b[1;32m    509\u001b[0m     \u001b[0;32mif\u001b[0m \u001b[0misinstance\u001b[0m\u001b[0;34m(\u001b[0m\u001b[0mt\u001b[0m\u001b[0;34m,\u001b[0m \u001b[0mops\u001b[0m\u001b[0;34m.\u001b[0m\u001b[0mTensor\u001b[0m\u001b[0;34m)\u001b[0m\u001b[0;34m:\u001b[0m\u001b[0;34m\u001b[0m\u001b[0;34m\u001b[0m\u001b[0m\n\u001b[0;32m--> 510\u001b[0;31m       \u001b[0mx\u001b[0m \u001b[0;34m=\u001b[0m \u001b[0mt\u001b[0m\u001b[0;34m.\u001b[0m\u001b[0mnumpy\u001b[0m\u001b[0;34m(\u001b[0m\u001b[0;34m)\u001b[0m\u001b[0;34m\u001b[0m\u001b[0;34m\u001b[0m\u001b[0m\n\u001b[0m\u001b[1;32m    511\u001b[0m       \u001b[0;32mreturn\u001b[0m \u001b[0mx\u001b[0m\u001b[0;34m.\u001b[0m\u001b[0mitem\u001b[0m\u001b[0;34m(\u001b[0m\u001b[0;34m)\u001b[0m \u001b[0;32mif\u001b[0m \u001b[0mnp\u001b[0m\u001b[0;34m.\u001b[0m\u001b[0mndim\u001b[0m\u001b[0;34m(\u001b[0m\u001b[0mx\u001b[0m\u001b[0;34m)\u001b[0m \u001b[0;34m==\u001b[0m \u001b[0;36m0\u001b[0m \u001b[0;32melse\u001b[0m \u001b[0mx\u001b[0m\u001b[0;34m\u001b[0m\u001b[0;34m\u001b[0m\u001b[0m\n\u001b[1;32m    512\u001b[0m     \u001b[0;32mreturn\u001b[0m \u001b[0mt\u001b[0m  \u001b[0;31m# Don't turn ragged or sparse tensors to NumPy.\u001b[0m\u001b[0;34m\u001b[0m\u001b[0;34m\u001b[0m\u001b[0m\n",
            "\u001b[0;32m/usr/local/lib/python3.7/dist-packages/tensorflow/python/framework/ops.py\u001b[0m in \u001b[0;36mnumpy\u001b[0;34m(self)\u001b[0m\n\u001b[1;32m   1069\u001b[0m     \"\"\"\n\u001b[1;32m   1070\u001b[0m     \u001b[0;31m# TODO(slebedev): Consider avoiding a copy for non-CPU or remote tensors.\u001b[0m\u001b[0;34m\u001b[0m\u001b[0;34m\u001b[0m\u001b[0;34m\u001b[0m\u001b[0m\n\u001b[0;32m-> 1071\u001b[0;31m     \u001b[0mmaybe_arr\u001b[0m \u001b[0;34m=\u001b[0m \u001b[0mself\u001b[0m\u001b[0;34m.\u001b[0m\u001b[0m_numpy\u001b[0m\u001b[0;34m(\u001b[0m\u001b[0;34m)\u001b[0m  \u001b[0;31m# pylint: disable=protected-access\u001b[0m\u001b[0;34m\u001b[0m\u001b[0;34m\u001b[0m\u001b[0m\n\u001b[0m\u001b[1;32m   1072\u001b[0m     \u001b[0;32mreturn\u001b[0m \u001b[0mmaybe_arr\u001b[0m\u001b[0;34m.\u001b[0m\u001b[0mcopy\u001b[0m\u001b[0;34m(\u001b[0m\u001b[0;34m)\u001b[0m \u001b[0;32mif\u001b[0m \u001b[0misinstance\u001b[0m\u001b[0;34m(\u001b[0m\u001b[0mmaybe_arr\u001b[0m\u001b[0;34m,\u001b[0m \u001b[0mnp\u001b[0m\u001b[0;34m.\u001b[0m\u001b[0mndarray\u001b[0m\u001b[0;34m)\u001b[0m \u001b[0;32melse\u001b[0m \u001b[0mmaybe_arr\u001b[0m\u001b[0;34m\u001b[0m\u001b[0;34m\u001b[0m\u001b[0m\n\u001b[1;32m   1073\u001b[0m \u001b[0;34m\u001b[0m\u001b[0m\n",
            "\u001b[0;32m/usr/local/lib/python3.7/dist-packages/tensorflow/python/framework/ops.py\u001b[0m in \u001b[0;36m_numpy\u001b[0;34m(self)\u001b[0m\n\u001b[1;32m   1035\u001b[0m   \u001b[0;32mdef\u001b[0m \u001b[0m_numpy\u001b[0m\u001b[0;34m(\u001b[0m\u001b[0mself\u001b[0m\u001b[0;34m)\u001b[0m\u001b[0;34m:\u001b[0m\u001b[0;34m\u001b[0m\u001b[0;34m\u001b[0m\u001b[0m\n\u001b[1;32m   1036\u001b[0m     \u001b[0;32mtry\u001b[0m\u001b[0;34m:\u001b[0m\u001b[0;34m\u001b[0m\u001b[0;34m\u001b[0m\u001b[0m\n\u001b[0;32m-> 1037\u001b[0;31m       \u001b[0;32mreturn\u001b[0m \u001b[0mself\u001b[0m\u001b[0;34m.\u001b[0m\u001b[0m_numpy_internal\u001b[0m\u001b[0;34m(\u001b[0m\u001b[0;34m)\u001b[0m\u001b[0;34m\u001b[0m\u001b[0;34m\u001b[0m\u001b[0m\n\u001b[0m\u001b[1;32m   1038\u001b[0m     \u001b[0;32mexcept\u001b[0m \u001b[0mcore\u001b[0m\u001b[0;34m.\u001b[0m\u001b[0m_NotOkStatusException\u001b[0m \u001b[0;32mas\u001b[0m \u001b[0me\u001b[0m\u001b[0;34m:\u001b[0m  \u001b[0;31m# pylint: disable=protected-access\u001b[0m\u001b[0;34m\u001b[0m\u001b[0;34m\u001b[0m\u001b[0m\n\u001b[1;32m   1039\u001b[0m       \u001b[0msix\u001b[0m\u001b[0;34m.\u001b[0m\u001b[0mraise_from\u001b[0m\u001b[0;34m(\u001b[0m\u001b[0mcore\u001b[0m\u001b[0;34m.\u001b[0m\u001b[0m_status_to_exception\u001b[0m\u001b[0;34m(\u001b[0m\u001b[0me\u001b[0m\u001b[0;34m.\u001b[0m\u001b[0mcode\u001b[0m\u001b[0;34m,\u001b[0m \u001b[0me\u001b[0m\u001b[0;34m.\u001b[0m\u001b[0mmessage\u001b[0m\u001b[0;34m)\u001b[0m\u001b[0;34m,\u001b[0m \u001b[0;32mNone\u001b[0m\u001b[0;34m)\u001b[0m  \u001b[0;31m# pylint: disable=protected-access\u001b[0m\u001b[0;34m\u001b[0m\u001b[0;34m\u001b[0m\u001b[0m\n",
            "\u001b[0;31mKeyboardInterrupt\u001b[0m: "
          ]
        }
      ]
    },
    {
      "cell_type": "code",
      "metadata": {
        "id": "EXjJSTzjtpEs"
      },
      "source": [
        "df_sub.iloc[:, 1:] = y_preds\r\n",
        "display(df_sub)"
      ],
      "execution_count": null,
      "outputs": []
    },
    {
      "cell_type": "code",
      "metadata": {
        "id": "6vkbTSFztsBM"
      },
      "source": [
        "df_sub.to_csv('submission.csv',index=False)"
      ],
      "execution_count": null,
      "outputs": []
    },
    {
      "cell_type": "markdown",
      "metadata": {
        "id": "1-ye4Hxtx3fE"
      },
      "source": [
        "### Ensemble"
      ]
    },
    {
      "cell_type": "code",
      "metadata": {
        "colab": {
          "base_uri": "https://localhost:8080/",
          "height": 1000
        },
        "id": "Xkrs_gE-Du6M",
        "outputId": "4db84b21-f680-4bf7-a8fb-a4402c466c9f"
      },
      "source": [
        "image_paths = paths[0:train_limit]\r\n",
        "image_labels = labels[0:train_limit]\r\n",
        "\r\n",
        "kf = KFold(n_splits=n_fold)\r\n",
        "\r\n",
        "for fold in range(0, n_fold):\r\n",
        "\r\n",
        "    print(f\"\\nFold: {fold}\")\r\n",
        "\r\n",
        "    path = os.path.join(\"output_path\", str(fold))\r\n",
        "    mkdir_if_not_exist(path)\r\n",
        "\r\n",
        "    model_path = os.path.join(path, \"model_\"+str(fold)+\".h5\")\r\n",
        "\r\n",
        "    result = next(kf.split(X=image_paths, y=image_labels), None)\r\n",
        "\r\n",
        "    train = image_paths[result[0]].tolist()\r\n",
        "    train_labels = [id_label_map[k] for k in train]\r\n",
        "    val = image_paths[result[1]].tolist()\r\n",
        "    valid_labels = [id_label_map[k] for k in val]\r\n",
        "\r\n",
        "    print(f\"train shape: {len(train)}\")\r\n",
        "    print(f\"train steps_per_epoch: {len(train) // batch_size}\")\r\n",
        "    print(f\"val shape: {len(val)}\")\r\n",
        "    print(f\"validation steps_per_epoch: {len(val) // batch_size}\")\r\n",
        "\r\n",
        "    # Build the tensorflow datasets\r\n",
        "    dtrain = build_dataset(\r\n",
        "        train, train_labels, bsize=batch_size, decode_fn=decoder\r\n",
        "    )\r\n",
        "\r\n",
        "    dvalid = build_dataset(\r\n",
        "        val, valid_labels, bsize=batch_size, \r\n",
        "        repeat=False, shuffle=False, augment=False, decode_fn=decoder\r\n",
        "    )\r\n",
        "\r\n",
        "    tf.keras.backend.clear_session()\r\n",
        "\r\n",
        "    callbacks = get_callbacks(model_path, lrfn)\r\n",
        "\r\n",
        "    with strategy.scope():\r\n",
        "      model = get_model(architecture, img_size, n_classes)\r\n",
        "      model.compile(tf.optimizers.Adam(lr=1e-4),\r\n",
        "                    loss='binary_crossentropy',\r\n",
        "                    metrics=[tf.keras.metrics.AUC(name=\"auc\", multi_label=True)])\r\n",
        "      \r\n",
        "      ###########\r\n",
        "      # Training\r\n",
        "      ###########\r\n",
        "\r\n",
        "      history = model.fit(\r\n",
        "          dtrain,\r\n",
        "          validation_data=dvalid,\r\n",
        "          epochs=epochs, verbose=1,\r\n",
        "          callbacks=callbacks,\r\n",
        "          steps_per_epoch=len(train) // batch_size,\r\n",
        "          validation_steps=len(val) // batch_size)\r\n",
        "\r\n",
        "      # summarize history\r\n",
        "      plot_metric(history, 'loss', path)\r\n",
        "      plot_metric(history, 'auc', path)\r\n",
        "      \r\n",
        "      # in order to release the memory\r\n",
        "      del history\r\n",
        "      del model\r\n",
        "      gc.collect()\r\n",
        "      # tf.keras.backend.clear_session()\r\n",
        "\r\n",
        "# To avoid timeout \r\n",
        "print(\"Avoiding timeout...\")\r\n",
        "while True:pass"
      ],
      "execution_count": null,
      "outputs": [
        {
          "output_type": "stream",
          "text": [
            "\n",
            "Fold: 0\n",
            "train shape: 24066\n",
            "train steps_per_epoch: 376\n",
            "val shape: 6017\n",
            "validation steps_per_epoch: 94\n",
            "WARNING:tensorflow:`epsilon` argument is deprecated and will be removed, use `min_delta` instead.\n"
          ],
          "name": "stdout"
        },
        {
          "output_type": "stream",
          "text": [
            "WARNING:tensorflow:`epsilon` argument is deprecated and will be removed, use `min_delta` instead.\n"
          ],
          "name": "stderr"
        },
        {
          "output_type": "stream",
          "text": [
            "Epoch 1/20\n",
            "\n",
            "Epoch 00001: LearningRateScheduler reducing learning rate to 1e-05.\n",
            "376/376 [==============================] - 664s 2s/step - loss: 0.7018 - auc: 0.5364 - val_loss: 0.5757 - val_auc: 0.4758\n",
            "\n",
            "Epoch 00001: val_loss improved from inf to 0.57572, saving model to output_path/0/model_0.h5\n",
            "Epoch 2/20\n",
            "\n",
            "Epoch 00002: LearningRateScheduler reducing learning rate to 8.8e-05.\n",
            "376/376 [==============================] - 105s 279ms/step - loss: 0.3912 - auc: 0.5882 - val_loss: 0.3161 - val_auc: 0.7144\n",
            "\n",
            "Epoch 00002: val_loss improved from 0.57572 to 0.31614, saving model to output_path/0/model_0.h5\n",
            "Epoch 3/20\n",
            "\n",
            "Epoch 00003: LearningRateScheduler reducing learning rate to 0.000166.\n",
            "376/376 [==============================] - 105s 279ms/step - loss: 0.2822 - auc: 0.6909 - val_loss: 0.2574 - val_auc: 0.7842\n",
            "\n",
            "Epoch 00003: val_loss improved from 0.31614 to 0.25736, saving model to output_path/0/model_0.h5\n",
            "Epoch 4/20\n",
            "\n",
            "Epoch 00004: LearningRateScheduler reducing learning rate to 0.000244.\n",
            "376/376 [==============================] - 105s 280ms/step - loss: 0.2476 - auc: 0.7380 - val_loss: 0.2308 - val_auc: 0.8128\n",
            "\n",
            "Epoch 00004: val_loss improved from 0.25736 to 0.23082, saving model to output_path/0/model_0.h5\n",
            "Epoch 5/20\n",
            "\n",
            "Epoch 00005: LearningRateScheduler reducing learning rate to 0.000322.\n",
            "376/376 [==============================] - 106s 281ms/step - loss: 0.2285 - auc: 0.7856 - val_loss: 0.2051 - val_auc: 0.8328\n",
            "\n",
            "Epoch 00005: val_loss improved from 0.23082 to 0.20514, saving model to output_path/0/model_0.h5\n",
            "Epoch 6/20\n",
            "\n",
            "Epoch 00006: LearningRateScheduler reducing learning rate to 0.0004.\n",
            "376/376 [==============================] - 105s 280ms/step - loss: 0.2122 - auc: 0.8149 - val_loss: 0.2129 - val_auc: 0.8503\n",
            "\n",
            "Epoch 00006: val_loss did not improve from 0.20514\n",
            "Epoch 7/20\n",
            "\n",
            "Epoch 00007: LearningRateScheduler reducing learning rate to 0.000322.\n",
            "376/376 [==============================] - 105s 279ms/step - loss: 0.1947 - auc: 0.8558 - val_loss: 0.1839 - val_auc: 0.8849\n",
            "\n",
            "Epoch 00007: val_loss improved from 0.20514 to 0.18389, saving model to output_path/0/model_0.h5\n",
            "Epoch 8/20\n",
            "\n",
            "Epoch 00008: LearningRateScheduler reducing learning rate to 0.0002596000000000001.\n",
            "376/376 [==============================] - 105s 280ms/step - loss: 0.1800 - auc: 0.8824 - val_loss: 0.1735 - val_auc: 0.9043\n",
            "\n",
            "Epoch 00008: val_loss improved from 0.18389 to 0.17352, saving model to output_path/0/model_0.h5\n",
            "Epoch 9/20\n",
            "\n",
            "Epoch 00009: LearningRateScheduler reducing learning rate to 0.00020968000000000004.\n",
            "376/376 [==============================] - 106s 281ms/step - loss: 0.1659 - auc: 0.9039 - val_loss: 0.1699 - val_auc: 0.8947\n",
            "\n",
            "Epoch 00009: val_loss improved from 0.17352 to 0.16991, saving model to output_path/0/model_0.h5\n",
            "Epoch 10/20\n",
            "\n",
            "Epoch 00010: LearningRateScheduler reducing learning rate to 0.00016974400000000002.\n",
            "376/376 [==============================] - 105s 280ms/step - loss: 0.1528 - auc: 0.9207 - val_loss: 0.1623 - val_auc: 0.9162\n",
            "\n",
            "Epoch 00010: val_loss improved from 0.16991 to 0.16232, saving model to output_path/0/model_0.h5\n",
            "Epoch 11/20\n",
            "\n",
            "Epoch 00011: LearningRateScheduler reducing learning rate to 0.00013779520000000003.\n",
            "376/376 [==============================] - 105s 280ms/step - loss: 0.1401 - auc: 0.9363 - val_loss: 0.1647 - val_auc: 0.9206\n",
            "\n",
            "Epoch 00011: val_loss did not improve from 0.16232\n",
            "Epoch 12/20\n",
            "\n",
            "Epoch 00012: LearningRateScheduler reducing learning rate to 0.00011223616000000004.\n",
            "376/376 [==============================] - 105s 280ms/step - loss: 0.1298 - auc: 0.9421 - val_loss: 0.1588 - val_auc: 0.9222\n",
            "\n",
            "Epoch 00012: val_loss improved from 0.16232 to 0.15880, saving model to output_path/0/model_0.h5\n",
            "Epoch 13/20\n",
            "\n",
            "Epoch 00013: LearningRateScheduler reducing learning rate to 9.178892800000003e-05.\n",
            "376/376 [==============================] - 106s 281ms/step - loss: 0.1188 - auc: 0.9544 - val_loss: 0.1677 - val_auc: 0.9145\n",
            "\n",
            "Epoch 00013: val_loss did not improve from 0.15880\n",
            "Epoch 14/20\n",
            "\n",
            "Epoch 00014: LearningRateScheduler reducing learning rate to 7.543114240000003e-05.\n",
            "376/376 [==============================] - 106s 281ms/step - loss: 0.1082 - auc: 0.9580 - val_loss: 0.1682 - val_auc: 0.9121\n",
            "\n",
            "Epoch 00014: val_loss did not improve from 0.15880\n",
            "\n",
            "Epoch 00014: ReduceLROnPlateau reducing learning rate to 6.0344912344589834e-05.\n",
            "Epoch 15/20\n",
            "\n",
            "Epoch 00015: LearningRateScheduler reducing learning rate to 6.234491392000002e-05.\n",
            "376/376 [==============================] - 106s 282ms/step - loss: 0.0992 - auc: 0.9683 - val_loss: 0.1710 - val_auc: 0.9130\n",
            "\n",
            "Epoch 00015: val_loss did not improve from 0.15880\n",
            "Epoch 16/20\n",
            "\n",
            "Epoch 00016: LearningRateScheduler reducing learning rate to 5.1875931136000024e-05.\n",
            "376/376 [==============================] - 106s 282ms/step - loss: 0.0858 - auc: 0.9765 - val_loss: 0.1730 - val_auc: 0.9139\n",
            "\n",
            "Epoch 00016: val_loss did not improve from 0.15880\n",
            "Epoch 17/20\n",
            "\n",
            "Epoch 00017: LearningRateScheduler reducing learning rate to 4.3500744908800015e-05.\n",
            "376/376 [==============================] - 105s 280ms/step - loss: 0.0834 - auc: 0.9733 - val_loss: 0.1830 - val_auc: 0.9139\n",
            "Restoring model weights from the end of the best epoch.\n",
            "\n",
            "Epoch 00017: val_loss did not improve from 0.15880\n",
            "Epoch 00017: early stopping\n",
            "\n",
            "Fold: 1\n",
            "train shape: 24066\n",
            "train steps_per_epoch: 376\n",
            "val shape: 6017\n",
            "validation steps_per_epoch: 94\n",
            "WARNING:tensorflow:`epsilon` argument is deprecated and will be removed, use `min_delta` instead.\n"
          ],
          "name": "stdout"
        },
        {
          "output_type": "stream",
          "text": [
            "WARNING:tensorflow:`epsilon` argument is deprecated and will be removed, use `min_delta` instead.\n"
          ],
          "name": "stderr"
        },
        {
          "output_type": "stream",
          "text": [
            "Epoch 1/20\n",
            "\n",
            "Epoch 00001: LearningRateScheduler reducing learning rate to 1e-05.\n",
            "376/376 [==============================] - 678s 2s/step - loss: 0.7380 - auc: 0.5402 - val_loss: 0.5407 - val_auc: 0.5909\n",
            "\n",
            "Epoch 00001: val_loss improved from inf to 0.54065, saving model to output_path/1/model_1.h5\n",
            "Epoch 2/20\n",
            "\n",
            "Epoch 00002: LearningRateScheduler reducing learning rate to 8.8e-05.\n",
            "376/376 [==============================] - 105s 280ms/step - loss: 0.3744 - auc: 0.5800 - val_loss: 0.2780 - val_auc: 0.7533\n",
            "\n",
            "Epoch 00002: val_loss improved from 0.54065 to 0.27800, saving model to output_path/1/model_1.h5\n",
            "Epoch 3/20\n",
            "\n",
            "Epoch 00003: LearningRateScheduler reducing learning rate to 0.000166.\n",
            "376/376 [==============================] - 106s 282ms/step - loss: 0.2831 - auc: 0.6762 - val_loss: 0.2360 - val_auc: 0.7827\n",
            "\n",
            "Epoch 00003: val_loss improved from 0.27800 to 0.23601, saving model to output_path/1/model_1.h5\n",
            "Epoch 4/20\n",
            "\n",
            "Epoch 00004: LearningRateScheduler reducing learning rate to 0.000244.\n",
            "376/376 [==============================] - 106s 282ms/step - loss: 0.2438 - auc: 0.7333 - val_loss: 0.2140 - val_auc: 0.8167\n",
            "\n",
            "Epoch 00004: val_loss improved from 0.23601 to 0.21401, saving model to output_path/1/model_1.h5\n",
            "Epoch 5/20\n",
            "\n",
            "Epoch 00005: LearningRateScheduler reducing learning rate to 0.000322.\n",
            "376/376 [==============================] - 106s 281ms/step - loss: 0.2233 - auc: 0.7928 - val_loss: 0.2183 - val_auc: 0.8315\n",
            "\n",
            "Epoch 00005: val_loss did not improve from 0.21401\n",
            "Epoch 6/20\n",
            "\n",
            "Epoch 00006: LearningRateScheduler reducing learning rate to 0.0004.\n",
            "376/376 [==============================] - 106s 281ms/step - loss: 0.2068 - auc: 0.8297 - val_loss: 0.2000 - val_auc: 0.8633\n",
            "\n",
            "Epoch 00006: val_loss improved from 0.21401 to 0.19996, saving model to output_path/1/model_1.h5\n",
            "Epoch 7/20\n",
            "\n",
            "Epoch 00007: LearningRateScheduler reducing learning rate to 0.000322.\n",
            "376/376 [==============================] - 106s 282ms/step - loss: 0.1875 - auc: 0.8743 - val_loss: 0.1784 - val_auc: 0.8962\n",
            "\n",
            "Epoch 00007: val_loss improved from 0.19996 to 0.17844, saving model to output_path/1/model_1.h5\n",
            "Epoch 8/20\n",
            "\n",
            "Epoch 00008: LearningRateScheduler reducing learning rate to 0.0002596000000000001.\n",
            "376/376 [==============================] - 107s 284ms/step - loss: 0.1719 - auc: 0.8975 - val_loss: 0.1696 - val_auc: 0.9063\n",
            "\n",
            "Epoch 00008: val_loss improved from 0.17844 to 0.16959, saving model to output_path/1/model_1.h5\n",
            "Epoch 9/20\n",
            "\n",
            "Epoch 00009: LearningRateScheduler reducing learning rate to 0.00020968000000000004.\n",
            "376/376 [==============================] - 106s 282ms/step - loss: 0.1564 - auc: 0.9160 - val_loss: 0.1671 - val_auc: 0.9145\n",
            "\n",
            "Epoch 00009: val_loss improved from 0.16959 to 0.16710, saving model to output_path/1/model_1.h5\n",
            "Epoch 10/20\n",
            "\n",
            "Epoch 00010: LearningRateScheduler reducing learning rate to 0.00016974400000000002.\n",
            "376/376 [==============================] - 106s 282ms/step - loss: 0.1491 - auc: 0.9258 - val_loss: 0.1583 - val_auc: 0.9139\n",
            "\n",
            "Epoch 00010: val_loss improved from 0.16710 to 0.15827, saving model to output_path/1/model_1.h5\n",
            "Epoch 11/20\n",
            "\n",
            "Epoch 00011: LearningRateScheduler reducing learning rate to 0.00013779520000000003.\n",
            "376/376 [==============================] - 106s 281ms/step - loss: 0.1383 - auc: 0.9356 - val_loss: 0.1557 - val_auc: 0.9226\n",
            "\n",
            "Epoch 00011: val_loss improved from 0.15827 to 0.15574, saving model to output_path/1/model_1.h5\n",
            "Epoch 12/20\n",
            "\n",
            "Epoch 00012: LearningRateScheduler reducing learning rate to 0.00011223616000000004.\n",
            "376/376 [==============================] - 106s 283ms/step - loss: 0.1239 - auc: 0.9481 - val_loss: 0.1605 - val_auc: 0.9232\n",
            "\n",
            "Epoch 00012: val_loss did not improve from 0.15574\n",
            "Epoch 13/20\n",
            "\n",
            "Epoch 00013: LearningRateScheduler reducing learning rate to 9.178892800000003e-05.\n",
            "376/376 [==============================] - 106s 282ms/step - loss: 0.1110 - auc: 0.9584 - val_loss: 0.1745 - val_auc: 0.9119\n",
            "\n",
            "Epoch 00013: val_loss did not improve from 0.15574\n",
            "\n",
            "Epoch 00013: ReduceLROnPlateau reducing learning rate to 7.34311412088573e-05.\n",
            "Epoch 14/20\n",
            "\n",
            "Epoch 00014: LearningRateScheduler reducing learning rate to 7.543114240000003e-05.\n",
            "376/376 [==============================] - 106s 282ms/step - loss: 0.1081 - auc: 0.9603 - val_loss: 0.1636 - val_auc: 0.9146\n",
            "\n",
            "Epoch 00014: val_loss did not improve from 0.15574\n",
            "Epoch 15/20\n",
            "\n",
            "Epoch 00015: LearningRateScheduler reducing learning rate to 6.234491392000002e-05.\n",
            "376/376 [==============================] - 106s 282ms/step - loss: 0.0935 - auc: 0.9656 - val_loss: 0.1688 - val_auc: 0.9176\n",
            "\n",
            "Epoch 00015: val_loss did not improve from 0.15574\n",
            "Epoch 16/20\n",
            "\n",
            "Epoch 00016: LearningRateScheduler reducing learning rate to 5.1875931136000024e-05.\n",
            "376/376 [==============================] - 106s 282ms/step - loss: 0.0832 - auc: 0.9731 - val_loss: 0.1814 - val_auc: 0.9104\n",
            "Restoring model weights from the end of the best epoch.\n",
            "\n",
            "Epoch 00016: val_loss did not improve from 0.15574\n",
            "Epoch 00016: early stopping\n",
            "\n",
            "Fold: 2\n",
            "train shape: 24066\n",
            "train steps_per_epoch: 376\n",
            "val shape: 6017\n",
            "validation steps_per_epoch: 94\n",
            "WARNING:tensorflow:`epsilon` argument is deprecated and will be removed, use `min_delta` instead.\n"
          ],
          "name": "stdout"
        },
        {
          "output_type": "stream",
          "text": [
            "WARNING:tensorflow:`epsilon` argument is deprecated and will be removed, use `min_delta` instead.\n"
          ],
          "name": "stderr"
        },
        {
          "output_type": "stream",
          "text": [
            "Epoch 1/20\n",
            "\n",
            "Epoch 00001: LearningRateScheduler reducing learning rate to 1e-05.\n",
            "376/376 [==============================] - 688s 2s/step - loss: 0.7287 - auc: 0.5455 - val_loss: 0.5556 - val_auc: 0.5650\n",
            "\n",
            "Epoch 00001: val_loss improved from inf to 0.55558, saving model to output_path/2/model_2.h5\n",
            "Epoch 2/20\n",
            "\n",
            "Epoch 00002: LearningRateScheduler reducing learning rate to 8.8e-05.\n",
            "376/376 [==============================] - 106s 281ms/step - loss: 0.3868 - auc: 0.5851 - val_loss: 0.2856 - val_auc: 0.7290\n",
            "\n",
            "Epoch 00002: val_loss improved from 0.55558 to 0.28558, saving model to output_path/2/model_2.h5\n",
            "Epoch 3/20\n",
            "\n",
            "Epoch 00003: LearningRateScheduler reducing learning rate to 0.000166.\n",
            "376/376 [==============================] - 105s 280ms/step - loss: 0.2836 - auc: 0.6683 - val_loss: 0.2314 - val_auc: 0.7889\n",
            "\n",
            "Epoch 00003: val_loss improved from 0.28558 to 0.23143, saving model to output_path/2/model_2.h5\n",
            "Epoch 4/20\n",
            "\n",
            "Epoch 00004: LearningRateScheduler reducing learning rate to 0.000244.\n",
            "376/376 [==============================] - 106s 281ms/step - loss: 0.2402 - auc: 0.7407 - val_loss: 0.2191 - val_auc: 0.8232\n",
            "\n",
            "Epoch 00004: val_loss improved from 0.23143 to 0.21913, saving model to output_path/2/model_2.h5\n",
            "Epoch 5/20\n",
            "\n",
            "Epoch 00005: LearningRateScheduler reducing learning rate to 0.000322.\n",
            "376/376 [==============================] - 106s 281ms/step - loss: 0.2200 - auc: 0.7917 - val_loss: 0.2004 - val_auc: 0.8471\n",
            "\n",
            "Epoch 00005: val_loss improved from 0.21913 to 0.20039, saving model to output_path/2/model_2.h5\n",
            "Epoch 6/20\n",
            "\n",
            "Epoch 00006: LearningRateScheduler reducing learning rate to 0.0004.\n",
            "376/376 [==============================] - 106s 282ms/step - loss: 0.2080 - auc: 0.8232 - val_loss: 0.2559 - val_auc: 0.8582\n",
            "\n",
            "Epoch 00006: val_loss did not improve from 0.20039\n",
            "Epoch 7/20\n",
            "\n",
            "Epoch 00007: LearningRateScheduler reducing learning rate to 0.000322.\n",
            "376/376 [==============================] - 106s 282ms/step - loss: 0.1869 - auc: 0.8727 - val_loss: 0.1733 - val_auc: 0.8979\n",
            "\n",
            "Epoch 00007: val_loss improved from 0.20039 to 0.17328, saving model to output_path/2/model_2.h5\n",
            "Epoch 8/20\n",
            "\n",
            "Epoch 00008: LearningRateScheduler reducing learning rate to 0.0002596000000000001.\n",
            "376/376 [==============================] - 106s 282ms/step - loss: 0.1680 - auc: 0.9028 - val_loss: 0.1723 - val_auc: 0.9028\n",
            "\n",
            "Epoch 00008: val_loss improved from 0.17328 to 0.17227, saving model to output_path/2/model_2.h5\n",
            "Epoch 9/20\n",
            "\n",
            "Epoch 00009: LearningRateScheduler reducing learning rate to 0.00020968000000000004.\n",
            "376/376 [==============================] - 106s 283ms/step - loss: 0.1567 - auc: 0.9117 - val_loss: 0.1632 - val_auc: 0.9243\n",
            "\n",
            "Epoch 00009: val_loss improved from 0.17227 to 0.16325, saving model to output_path/2/model_2.h5\n",
            "Epoch 10/20\n",
            "\n",
            "Epoch 00010: LearningRateScheduler reducing learning rate to 0.00016974400000000002.\n",
            "376/376 [==============================] - 106s 281ms/step - loss: 0.1452 - auc: 0.9301 - val_loss: 0.1541 - val_auc: 0.9215\n",
            "\n",
            "Epoch 00010: val_loss improved from 0.16325 to 0.15407, saving model to output_path/2/model_2.h5\n",
            "Epoch 11/20\n",
            "\n",
            "Epoch 00011: LearningRateScheduler reducing learning rate to 0.00013779520000000003.\n",
            "376/376 [==============================] - 106s 282ms/step - loss: 0.1321 - auc: 0.9421 - val_loss: 0.1582 - val_auc: 0.9190\n",
            "\n",
            "Epoch 00011: val_loss did not improve from 0.15407\n",
            "Epoch 12/20\n",
            "\n",
            "Epoch 00012: LearningRateScheduler reducing learning rate to 0.00011223616000000004.\n",
            "376/376 [==============================] - 106s 281ms/step - loss: 0.1187 - auc: 0.9512 - val_loss: 0.1607 - val_auc: 0.9077\n",
            "\n",
            "Epoch 00012: val_loss did not improve from 0.15407\n",
            "\n",
            "Epoch 00012: ReduceLROnPlateau reducing learning rate to 8.978892583400011e-05.\n",
            "Epoch 13/20\n",
            "\n",
            "Epoch 00013: LearningRateScheduler reducing learning rate to 9.178892800000003e-05.\n",
            "376/376 [==============================] - 106s 283ms/step - loss: 0.1154 - auc: 0.9549 - val_loss: 0.1665 - val_auc: 0.9029\n",
            "\n",
            "Epoch 00013: val_loss did not improve from 0.15407\n",
            "Epoch 14/20\n",
            "\n",
            "Epoch 00014: LearningRateScheduler reducing learning rate to 7.543114240000003e-05.\n",
            "376/376 [==============================] - 106s 283ms/step - loss: 0.0955 - auc: 0.9676 - val_loss: 0.1688 - val_auc: 0.9060\n",
            "\n",
            "Epoch 00014: val_loss did not improve from 0.15407\n",
            "Epoch 15/20\n",
            "\n",
            "Epoch 00015: LearningRateScheduler reducing learning rate to 6.234491392000002e-05.\n",
            "376/376 [==============================] - 106s 283ms/step - loss: 0.0961 - auc: 0.9686 - val_loss: 0.1642 - val_auc: 0.9195\n",
            "Restoring model weights from the end of the best epoch.\n",
            "\n",
            "Epoch 00015: val_loss did not improve from 0.15407\n",
            "Epoch 00015: early stopping\n",
            "\n",
            "Fold: 3\n",
            "train shape: 24066\n",
            "train steps_per_epoch: 376\n",
            "val shape: 6017\n",
            "validation steps_per_epoch: 94\n",
            "WARNING:tensorflow:`epsilon` argument is deprecated and will be removed, use `min_delta` instead.\n"
          ],
          "name": "stdout"
        },
        {
          "output_type": "stream",
          "text": [
            "WARNING:tensorflow:`epsilon` argument is deprecated and will be removed, use `min_delta` instead.\n"
          ],
          "name": "stderr"
        },
        {
          "output_type": "stream",
          "text": [
            "Epoch 1/20\n",
            "\n",
            "Epoch 00001: LearningRateScheduler reducing learning rate to 1e-05.\n",
            "376/376 [==============================] - 710s 2s/step - loss: 0.7622 - auc: 0.5371 - val_loss: 0.5835 - val_auc: 0.5334\n",
            "\n",
            "Epoch 00001: val_loss improved from inf to 0.58353, saving model to output_path/3/model_3.h5\n",
            "Epoch 2/20\n",
            "\n",
            "Epoch 00002: LearningRateScheduler reducing learning rate to 8.8e-05.\n",
            "376/376 [==============================] - 106s 283ms/step - loss: 0.3969 - auc: 0.5682 - val_loss: 0.2877 - val_auc: 0.7283\n",
            "\n",
            "Epoch 00002: val_loss improved from 0.58353 to 0.28772, saving model to output_path/3/model_3.h5\n",
            "Epoch 3/20\n",
            "\n",
            "Epoch 00003: LearningRateScheduler reducing learning rate to 0.000166.\n",
            "376/376 [==============================] - 106s 281ms/step - loss: 0.2873 - auc: 0.6455 - val_loss: 0.2306 - val_auc: 0.7863\n",
            "\n",
            "Epoch 00003: val_loss improved from 0.28772 to 0.23061, saving model to output_path/3/model_3.h5\n",
            "Epoch 4/20\n",
            "\n",
            "Epoch 00004: LearningRateScheduler reducing learning rate to 0.000244.\n",
            "376/376 [==============================] - 106s 282ms/step - loss: 0.2422 - auc: 0.7375 - val_loss: 0.2127 - val_auc: 0.8223\n",
            "\n",
            "Epoch 00004: val_loss improved from 0.23061 to 0.21274, saving model to output_path/3/model_3.h5\n",
            "Epoch 5/20\n",
            "\n",
            "Epoch 00005: LearningRateScheduler reducing learning rate to 0.000322.\n",
            "376/376 [==============================] - 106s 281ms/step - loss: 0.2196 - auc: 0.7979 - val_loss: 0.2025 - val_auc: 0.8400\n",
            "\n",
            "Epoch 00005: val_loss improved from 0.21274 to 0.20248, saving model to output_path/3/model_3.h5\n",
            "Epoch 6/20\n",
            "\n",
            "Epoch 00006: LearningRateScheduler reducing learning rate to 0.0004.\n",
            "376/376 [==============================] - 105s 281ms/step - loss: 0.2058 - auc: 0.8365 - val_loss: 0.1830 - val_auc: 0.8830\n",
            "\n",
            "Epoch 00006: val_loss improved from 0.20248 to 0.18301, saving model to output_path/3/model_3.h5\n",
            "Epoch 7/20\n",
            "\n",
            "Epoch 00007: LearningRateScheduler reducing learning rate to 0.000322.\n",
            "376/376 [==============================] - 106s 283ms/step - loss: 0.1861 - auc: 0.8741 - val_loss: 0.1757 - val_auc: 0.8910\n",
            "\n",
            "Epoch 00007: val_loss improved from 0.18301 to 0.17565, saving model to output_path/3/model_3.h5\n",
            "Epoch 8/20\n",
            "\n",
            "Epoch 00008: LearningRateScheduler reducing learning rate to 0.0002596000000000001.\n",
            "376/376 [==============================] - 106s 283ms/step - loss: 0.1675 - auc: 0.9055 - val_loss: 0.1600 - val_auc: 0.9086\n",
            "\n",
            "Epoch 00008: val_loss improved from 0.17565 to 0.16000, saving model to output_path/3/model_3.h5\n",
            "Epoch 9/20\n",
            "\n",
            "Epoch 00009: LearningRateScheduler reducing learning rate to 0.00020968000000000004.\n",
            "376/376 [==============================] - 106s 282ms/step - loss: 0.1565 - auc: 0.9103 - val_loss: 0.1662 - val_auc: 0.9216\n",
            "\n",
            "Epoch 00009: val_loss did not improve from 0.16000\n",
            "Epoch 10/20\n",
            "\n",
            "Epoch 00010: LearningRateScheduler reducing learning rate to 0.00016974400000000002.\n",
            "376/376 [==============================] - 106s 281ms/step - loss: 0.1395 - auc: 0.9354 - val_loss: 0.1622 - val_auc: 0.9156\n",
            "\n",
            "Epoch 00010: val_loss did not improve from 0.16000\n",
            "\n",
            "Epoch 00010: ReduceLROnPlateau reducing learning rate to 0.00013579520164057614.\n",
            "Epoch 11/20\n",
            "\n",
            "Epoch 00011: LearningRateScheduler reducing learning rate to 0.00013779520000000003.\n",
            "376/376 [==============================] - 106s 282ms/step - loss: 0.1361 - auc: 0.9344 - val_loss: 0.1598 - val_auc: 0.9239\n",
            "\n",
            "Epoch 00011: val_loss improved from 0.16000 to 0.15981, saving model to output_path/3/model_3.h5\n",
            "Epoch 12/20\n",
            "\n",
            "Epoch 00012: LearningRateScheduler reducing learning rate to 0.00011223616000000004.\n",
            "376/376 [==============================] - 106s 281ms/step - loss: 0.1244 - auc: 0.9474 - val_loss: 0.1576 - val_auc: 0.9149\n",
            "\n",
            "Epoch 00012: val_loss improved from 0.15981 to 0.15762, saving model to output_path/3/model_3.h5\n",
            "Epoch 13/20\n",
            "\n",
            "Epoch 00013: LearningRateScheduler reducing learning rate to 9.178892800000003e-05.\n",
            "376/376 [==============================] - 106s 283ms/step - loss: 0.1147 - auc: 0.9545 - val_loss: 0.1605 - val_auc: 0.9108\n",
            "\n",
            "Epoch 00013: val_loss did not improve from 0.15762\n",
            "Epoch 14/20\n",
            "\n",
            "Epoch 00014: LearningRateScheduler reducing learning rate to 7.543114240000003e-05.\n",
            "376/376 [==============================] - 106s 281ms/step - loss: 0.0962 - auc: 0.9701 - val_loss: 0.1659 - val_auc: 0.9140\n",
            "\n",
            "Epoch 00014: val_loss did not improve from 0.15762\n",
            "Epoch 15/20\n",
            "\n",
            "Epoch 00015: LearningRateScheduler reducing learning rate to 6.234491392000002e-05.\n",
            "376/376 [==============================] - 106s 281ms/step - loss: 0.0887 - auc: 0.9727 - val_loss: 0.1671 - val_auc: 0.9102\n",
            "\n",
            "Epoch 00015: val_loss did not improve from 0.15762\n",
            "Epoch 16/20\n",
            "\n",
            "Epoch 00016: LearningRateScheduler reducing learning rate to 5.1875931136000024e-05.\n",
            "376/376 [==============================] - 106s 282ms/step - loss: 0.0865 - auc: 0.9712 - val_loss: 0.1729 - val_auc: 0.9081\n",
            "\n",
            "Epoch 00016: val_loss did not improve from 0.15762\n",
            "\n",
            "Epoch 00016: ReduceLROnPlateau reducing learning rate to 4.150074382778258e-05.\n",
            "Epoch 17/20\n",
            "\n",
            "Epoch 00017: LearningRateScheduler reducing learning rate to 4.3500744908800015e-05.\n",
            "376/376 [==============================] - 106s 281ms/step - loss: 0.0732 - auc: 0.9763 - val_loss: 0.1811 - val_auc: 0.9061\n",
            "Restoring model weights from the end of the best epoch.\n",
            "\n",
            "Epoch 00017: val_loss did not improve from 0.15762\n",
            "Epoch 00017: early stopping\n",
            "\n",
            "Fold: 4\n",
            "train shape: 24066\n",
            "train steps_per_epoch: 376\n",
            "val shape: 6017\n",
            "validation steps_per_epoch: 94\n",
            "WARNING:tensorflow:`epsilon` argument is deprecated and will be removed, use `min_delta` instead.\n"
          ],
          "name": "stdout"
        },
        {
          "output_type": "stream",
          "text": [
            "WARNING:tensorflow:`epsilon` argument is deprecated and will be removed, use `min_delta` instead.\n"
          ],
          "name": "stderr"
        },
        {
          "output_type": "stream",
          "text": [
            "Epoch 1/20\n",
            "\n",
            "Epoch 00001: LearningRateScheduler reducing learning rate to 1e-05.\n",
            "376/376 [==============================] - 688s 2s/step - loss: 0.7167 - auc: 0.5424 - val_loss: 0.5478 - val_auc: 0.6428\n",
            "\n",
            "Epoch 00001: val_loss improved from inf to 0.54779, saving model to output_path/4/model_4.h5\n",
            "Epoch 2/20\n",
            "\n",
            "Epoch 00002: LearningRateScheduler reducing learning rate to 8.8e-05.\n",
            "376/376 [==============================] - 106s 282ms/step - loss: 0.3783 - auc: 0.5833 - val_loss: 0.2719 - val_auc: 0.7601\n",
            "\n",
            "Epoch 00002: val_loss improved from 0.54779 to 0.27194, saving model to output_path/4/model_4.h5\n",
            "Epoch 3/20\n",
            "\n",
            "Epoch 00003: LearningRateScheduler reducing learning rate to 0.000166.\n",
            "376/376 [==============================] - 106s 282ms/step - loss: 0.2910 - auc: 0.6534 - val_loss: 0.2347 - val_auc: 0.7871\n",
            "\n",
            "Epoch 00003: val_loss improved from 0.27194 to 0.23473, saving model to output_path/4/model_4.h5\n",
            "Epoch 4/20\n",
            "\n",
            "Epoch 00004: LearningRateScheduler reducing learning rate to 0.000244.\n",
            "376/376 [==============================] - 106s 282ms/step - loss: 0.2467 - auc: 0.7242 - val_loss: 0.2185 - val_auc: 0.8201\n",
            "\n",
            "Epoch 00004: val_loss improved from 0.23473 to 0.21847, saving model to output_path/4/model_4.h5\n",
            "Epoch 5/20\n",
            "\n",
            "Epoch 00005: LearningRateScheduler reducing learning rate to 0.000322.\n",
            "376/376 [==============================] - 106s 282ms/step - loss: 0.2232 - auc: 0.7805 - val_loss: 0.2038 - val_auc: 0.8483\n",
            "\n",
            "Epoch 00005: val_loss improved from 0.21847 to 0.20381, saving model to output_path/4/model_4.h5\n",
            "Epoch 6/20\n",
            "\n",
            "Epoch 00006: LearningRateScheduler reducing learning rate to 0.0004.\n",
            "376/376 [==============================] - 106s 281ms/step - loss: 0.2054 - auc: 0.8338 - val_loss: 0.1979 - val_auc: 0.8736\n",
            "\n",
            "Epoch 00006: val_loss improved from 0.20381 to 0.19793, saving model to output_path/4/model_4.h5\n",
            "Epoch 7/20\n",
            "\n",
            "Epoch 00007: LearningRateScheduler reducing learning rate to 0.000322.\n",
            "376/376 [==============================] - 106s 281ms/step - loss: 0.1873 - auc: 0.8722 - val_loss: 0.1803 - val_auc: 0.9014\n",
            "\n",
            "Epoch 00007: val_loss improved from 0.19793 to 0.18028, saving model to output_path/4/model_4.h5\n",
            "Epoch 8/20\n",
            "\n",
            "Epoch 00008: LearningRateScheduler reducing learning rate to 0.0002596000000000001.\n",
            "376/376 [==============================] - 107s 284ms/step - loss: 0.1702 - auc: 0.8964 - val_loss: 0.1686 - val_auc: 0.9074\n",
            "\n",
            "Epoch 00008: val_loss improved from 0.18028 to 0.16855, saving model to output_path/4/model_4.h5\n",
            "Epoch 9/20\n",
            "\n",
            "Epoch 00009: LearningRateScheduler reducing learning rate to 0.00020968000000000004.\n",
            "376/376 [==============================] - 106s 282ms/step - loss: 0.1596 - auc: 0.9156 - val_loss: 0.1673 - val_auc: 0.9207\n",
            "\n",
            "Epoch 00009: val_loss improved from 0.16855 to 0.16727, saving model to output_path/4/model_4.h5\n",
            "Epoch 10/20\n",
            "\n",
            "Epoch 00010: LearningRateScheduler reducing learning rate to 0.00016974400000000002.\n",
            "376/376 [==============================] - 106s 281ms/step - loss: 0.1459 - auc: 0.9329 - val_loss: 0.1599 - val_auc: 0.9213\n",
            "\n",
            "Epoch 00010: val_loss improved from 0.16727 to 0.15989, saving model to output_path/4/model_4.h5\n",
            "Epoch 11/20\n",
            "\n",
            "Epoch 00011: LearningRateScheduler reducing learning rate to 0.00013779520000000003.\n",
            "376/376 [==============================] - 106s 282ms/step - loss: 0.1303 - auc: 0.9427 - val_loss: 0.1702 - val_auc: 0.9253\n",
            "\n",
            "Epoch 00011: val_loss did not improve from 0.15989\n",
            "Epoch 12/20\n",
            "\n",
            "Epoch 00012: LearningRateScheduler reducing learning rate to 0.00011223616000000004.\n",
            "376/376 [==============================] - 107s 284ms/step - loss: 0.1193 - auc: 0.9517 - val_loss: 0.1668 - val_auc: 0.9116\n",
            "\n",
            "Epoch 00012: val_loss did not improve from 0.15989\n",
            "\n",
            "Epoch 00012: ReduceLROnPlateau reducing learning rate to 8.978892583400011e-05.\n",
            "Epoch 13/20\n",
            "\n",
            "Epoch 00013: LearningRateScheduler reducing learning rate to 9.178892800000003e-05.\n",
            "376/376 [==============================] - 106s 282ms/step - loss: 0.1149 - auc: 0.9541 - val_loss: 0.1591 - val_auc: 0.9171\n",
            "\n",
            "Epoch 00013: val_loss improved from 0.15989 to 0.15908, saving model to output_path/4/model_4.h5\n",
            "Epoch 14/20\n",
            "\n",
            "Epoch 00014: LearningRateScheduler reducing learning rate to 7.543114240000003e-05.\n",
            "376/376 [==============================] - 106s 283ms/step - loss: 0.1052 - auc: 0.9597 - val_loss: 0.1749 - val_auc: 0.9220\n",
            "\n",
            "Epoch 00014: val_loss did not improve from 0.15908\n",
            "Epoch 15/20\n",
            "\n",
            "Epoch 00015: LearningRateScheduler reducing learning rate to 6.234491392000002e-05.\n",
            "376/376 [==============================] - 106s 282ms/step - loss: 0.0889 - auc: 0.9699 - val_loss: 0.1733 - val_auc: 0.9171\n",
            "\n",
            "Epoch 00015: val_loss did not improve from 0.15908\n",
            "Epoch 16/20\n",
            "\n",
            "Epoch 00016: LearningRateScheduler reducing learning rate to 5.1875931136000024e-05.\n",
            "376/376 [==============================] - 106s 282ms/step - loss: 0.0813 - auc: 0.9783 - val_loss: 0.1743 - val_auc: 0.9198\n",
            "\n",
            "Epoch 00016: val_loss did not improve from 0.15908\n",
            "Epoch 17/20\n",
            "\n",
            "Epoch 00017: LearningRateScheduler reducing learning rate to 4.3500744908800015e-05.\n",
            "376/376 [==============================] - 106s 283ms/step - loss: 0.0806 - auc: 0.9707 - val_loss: 0.1770 - val_auc: 0.9211\n",
            "\n",
            "Epoch 00017: val_loss did not improve from 0.15908\n",
            "Epoch 18/20\n",
            "\n",
            "Epoch 00018: LearningRateScheduler reducing learning rate to 3.6800595927040014e-05.\n",
            "376/376 [==============================] - 106s 282ms/step - loss: 0.0741 - auc: 0.9808 - val_loss: 0.1815 - val_auc: 0.9077\n",
            "Restoring model weights from the end of the best epoch.\n",
            "\n",
            "Epoch 00018: val_loss did not improve from 0.15908\n",
            "\n",
            "Epoch 00018: ReduceLROnPlateau reducing learning rate to 2.944047737400979e-05.\n",
            "Epoch 00018: early stopping\n",
            "Avoiding timeout...\n"
          ],
          "name": "stdout"
        },
        {
          "output_type": "error",
          "ename": "KeyboardInterrupt",
          "evalue": "ignored",
          "traceback": [
            "\u001b[0;31m---------------------------------------------------------------------------\u001b[0m",
            "\u001b[0;31mKeyboardInterrupt\u001b[0m                         Traceback (most recent call last)",
            "\u001b[0;32m<ipython-input-21-313dd30fd132>\u001b[0m in \u001b[0;36m<module>\u001b[0;34m()\u001b[0m\n\u001b[1;32m    120\u001b[0m \u001b[0;31m# To avoid timeout\u001b[0m\u001b[0;34m\u001b[0m\u001b[0;34m\u001b[0m\u001b[0;34m\u001b[0m\u001b[0m\n\u001b[1;32m    121\u001b[0m \u001b[0mprint\u001b[0m\u001b[0;34m(\u001b[0m\u001b[0;34m\"Avoiding timeout...\"\u001b[0m\u001b[0;34m)\u001b[0m\u001b[0;34m\u001b[0m\u001b[0;34m\u001b[0m\u001b[0m\n\u001b[0;32m--> 122\u001b[0;31m \u001b[0;32mwhile\u001b[0m \u001b[0;32mTrue\u001b[0m\u001b[0;34m:\u001b[0m\u001b[0;32mpass\u001b[0m\u001b[0;34m\u001b[0m\u001b[0;34m\u001b[0m\u001b[0m\n\u001b[0m",
            "\u001b[0;31mKeyboardInterrupt\u001b[0m: "
          ]
        }
      ]
    },
    {
      "cell_type": "code",
      "metadata": {
        "colab": {
          "base_uri": "https://localhost:8080/",
          "height": 187
        },
        "id": "pbU435Gz32TW",
        "outputId": "9c6b8498-a8f3-4e05-91e4-2152f05b5932"
      },
      "source": [
        "from google.colab import files\r\n",
        "\r\n",
        "for fold in range(0, n_fold):\r\n",
        "  print(f\"downloading model_{fold}...\")\r\n",
        "  path = os.path.join(\"output_path\", str(fold))\r\n",
        "  mkdir_if_not_exist(path)\r\n",
        "  model_path = os.path.join(path, \"model_\"+str(fold)+\".h5\")\r\n",
        "  files.download(model_path) "
      ],
      "execution_count": null,
      "outputs": [
        {
          "output_type": "stream",
          "text": [
            "downloading model_0...\n"
          ],
          "name": "stdout"
        },
        {
          "output_type": "display_data",
          "data": {
            "application/javascript": [
              "\n",
              "    async function download(id, filename, size) {\n",
              "      if (!google.colab.kernel.accessAllowed) {\n",
              "        return;\n",
              "      }\n",
              "      const div = document.createElement('div');\n",
              "      const label = document.createElement('label');\n",
              "      label.textContent = `Downloading \"${filename}\": `;\n",
              "      div.appendChild(label);\n",
              "      const progress = document.createElement('progress');\n",
              "      progress.max = size;\n",
              "      div.appendChild(progress);\n",
              "      document.body.appendChild(div);\n",
              "\n",
              "      const buffers = [];\n",
              "      let downloaded = 0;\n",
              "\n",
              "      const channel = await google.colab.kernel.comms.open(id);\n",
              "      // Send a message to notify the kernel that we're ready.\n",
              "      channel.send({})\n",
              "\n",
              "      for await (const message of channel.messages) {\n",
              "        // Send a message to notify the kernel that we're ready.\n",
              "        channel.send({})\n",
              "        if (message.buffers) {\n",
              "          for (const buffer of message.buffers) {\n",
              "            buffers.push(buffer);\n",
              "            downloaded += buffer.byteLength;\n",
              "            progress.value = downloaded;\n",
              "          }\n",
              "        }\n",
              "      }\n",
              "      const blob = new Blob(buffers, {type: 'application/binary'});\n",
              "      const a = document.createElement('a');\n",
              "      a.href = window.URL.createObjectURL(blob);\n",
              "      a.download = filename;\n",
              "      div.appendChild(a);\n",
              "      a.click();\n",
              "      div.remove();\n",
              "    }\n",
              "  "
            ],
            "text/plain": [
              "<IPython.core.display.Javascript object>"
            ]
          },
          "metadata": {
            "tags": []
          }
        },
        {
          "output_type": "display_data",
          "data": {
            "application/javascript": [
              "download(\"download_16e60a11-b8d3-41c6-afea-a868b1119e77\", \"model_0.h5\", 257013560)"
            ],
            "text/plain": [
              "<IPython.core.display.Javascript object>"
            ]
          },
          "metadata": {
            "tags": []
          }
        },
        {
          "output_type": "stream",
          "text": [
            "downloading model_1...\n"
          ],
          "name": "stdout"
        },
        {
          "output_type": "display_data",
          "data": {
            "application/javascript": [
              "\n",
              "    async function download(id, filename, size) {\n",
              "      if (!google.colab.kernel.accessAllowed) {\n",
              "        return;\n",
              "      }\n",
              "      const div = document.createElement('div');\n",
              "      const label = document.createElement('label');\n",
              "      label.textContent = `Downloading \"${filename}\": `;\n",
              "      div.appendChild(label);\n",
              "      const progress = document.createElement('progress');\n",
              "      progress.max = size;\n",
              "      div.appendChild(progress);\n",
              "      document.body.appendChild(div);\n",
              "\n",
              "      const buffers = [];\n",
              "      let downloaded = 0;\n",
              "\n",
              "      const channel = await google.colab.kernel.comms.open(id);\n",
              "      // Send a message to notify the kernel that we're ready.\n",
              "      channel.send({})\n",
              "\n",
              "      for await (const message of channel.messages) {\n",
              "        // Send a message to notify the kernel that we're ready.\n",
              "        channel.send({})\n",
              "        if (message.buffers) {\n",
              "          for (const buffer of message.buffers) {\n",
              "            buffers.push(buffer);\n",
              "            downloaded += buffer.byteLength;\n",
              "            progress.value = downloaded;\n",
              "          }\n",
              "        }\n",
              "      }\n",
              "      const blob = new Blob(buffers, {type: 'application/binary'});\n",
              "      const a = document.createElement('a');\n",
              "      a.href = window.URL.createObjectURL(blob);\n",
              "      a.download = filename;\n",
              "      div.appendChild(a);\n",
              "      a.click();\n",
              "      div.remove();\n",
              "    }\n",
              "  "
            ],
            "text/plain": [
              "<IPython.core.display.Javascript object>"
            ]
          },
          "metadata": {
            "tags": []
          }
        },
        {
          "output_type": "display_data",
          "data": {
            "application/javascript": [
              "download(\"download_6744d071-81db-4acd-a2da-55d9792ada5d\", \"model_1.h5\", 257013560)"
            ],
            "text/plain": [
              "<IPython.core.display.Javascript object>"
            ]
          },
          "metadata": {
            "tags": []
          }
        },
        {
          "output_type": "stream",
          "text": [
            "downloading model_2...\n"
          ],
          "name": "stdout"
        },
        {
          "output_type": "display_data",
          "data": {
            "application/javascript": [
              "\n",
              "    async function download(id, filename, size) {\n",
              "      if (!google.colab.kernel.accessAllowed) {\n",
              "        return;\n",
              "      }\n",
              "      const div = document.createElement('div');\n",
              "      const label = document.createElement('label');\n",
              "      label.textContent = `Downloading \"${filename}\": `;\n",
              "      div.appendChild(label);\n",
              "      const progress = document.createElement('progress');\n",
              "      progress.max = size;\n",
              "      div.appendChild(progress);\n",
              "      document.body.appendChild(div);\n",
              "\n",
              "      const buffers = [];\n",
              "      let downloaded = 0;\n",
              "\n",
              "      const channel = await google.colab.kernel.comms.open(id);\n",
              "      // Send a message to notify the kernel that we're ready.\n",
              "      channel.send({})\n",
              "\n",
              "      for await (const message of channel.messages) {\n",
              "        // Send a message to notify the kernel that we're ready.\n",
              "        channel.send({})\n",
              "        if (message.buffers) {\n",
              "          for (const buffer of message.buffers) {\n",
              "            buffers.push(buffer);\n",
              "            downloaded += buffer.byteLength;\n",
              "            progress.value = downloaded;\n",
              "          }\n",
              "        }\n",
              "      }\n",
              "      const blob = new Blob(buffers, {type: 'application/binary'});\n",
              "      const a = document.createElement('a');\n",
              "      a.href = window.URL.createObjectURL(blob);\n",
              "      a.download = filename;\n",
              "      div.appendChild(a);\n",
              "      a.click();\n",
              "      div.remove();\n",
              "    }\n",
              "  "
            ],
            "text/plain": [
              "<IPython.core.display.Javascript object>"
            ]
          },
          "metadata": {
            "tags": []
          }
        },
        {
          "output_type": "display_data",
          "data": {
            "application/javascript": [
              "download(\"download_45044d68-163d-4ede-ad0a-c461075ec15d\", \"model_2.h5\", 257013560)"
            ],
            "text/plain": [
              "<IPython.core.display.Javascript object>"
            ]
          },
          "metadata": {
            "tags": []
          }
        },
        {
          "output_type": "stream",
          "text": [
            "downloading model_3...\n"
          ],
          "name": "stdout"
        },
        {
          "output_type": "display_data",
          "data": {
            "application/javascript": [
              "\n",
              "    async function download(id, filename, size) {\n",
              "      if (!google.colab.kernel.accessAllowed) {\n",
              "        return;\n",
              "      }\n",
              "      const div = document.createElement('div');\n",
              "      const label = document.createElement('label');\n",
              "      label.textContent = `Downloading \"${filename}\": `;\n",
              "      div.appendChild(label);\n",
              "      const progress = document.createElement('progress');\n",
              "      progress.max = size;\n",
              "      div.appendChild(progress);\n",
              "      document.body.appendChild(div);\n",
              "\n",
              "      const buffers = [];\n",
              "      let downloaded = 0;\n",
              "\n",
              "      const channel = await google.colab.kernel.comms.open(id);\n",
              "      // Send a message to notify the kernel that we're ready.\n",
              "      channel.send({})\n",
              "\n",
              "      for await (const message of channel.messages) {\n",
              "        // Send a message to notify the kernel that we're ready.\n",
              "        channel.send({})\n",
              "        if (message.buffers) {\n",
              "          for (const buffer of message.buffers) {\n",
              "            buffers.push(buffer);\n",
              "            downloaded += buffer.byteLength;\n",
              "            progress.value = downloaded;\n",
              "          }\n",
              "        }\n",
              "      }\n",
              "      const blob = new Blob(buffers, {type: 'application/binary'});\n",
              "      const a = document.createElement('a');\n",
              "      a.href = window.URL.createObjectURL(blob);\n",
              "      a.download = filename;\n",
              "      div.appendChild(a);\n",
              "      a.click();\n",
              "      div.remove();\n",
              "    }\n",
              "  "
            ],
            "text/plain": [
              "<IPython.core.display.Javascript object>"
            ]
          },
          "metadata": {
            "tags": []
          }
        },
        {
          "output_type": "display_data",
          "data": {
            "application/javascript": [
              "download(\"download_4df0ca3e-1a34-4ab7-9719-af29f1dc405e\", \"model_3.h5\", 257013560)"
            ],
            "text/plain": [
              "<IPython.core.display.Javascript object>"
            ]
          },
          "metadata": {
            "tags": []
          }
        },
        {
          "output_type": "stream",
          "text": [
            "downloading model_4...\n"
          ],
          "name": "stdout"
        },
        {
          "output_type": "display_data",
          "data": {
            "application/javascript": [
              "\n",
              "    async function download(id, filename, size) {\n",
              "      if (!google.colab.kernel.accessAllowed) {\n",
              "        return;\n",
              "      }\n",
              "      const div = document.createElement('div');\n",
              "      const label = document.createElement('label');\n",
              "      label.textContent = `Downloading \"${filename}\": `;\n",
              "      div.appendChild(label);\n",
              "      const progress = document.createElement('progress');\n",
              "      progress.max = size;\n",
              "      div.appendChild(progress);\n",
              "      document.body.appendChild(div);\n",
              "\n",
              "      const buffers = [];\n",
              "      let downloaded = 0;\n",
              "\n",
              "      const channel = await google.colab.kernel.comms.open(id);\n",
              "      // Send a message to notify the kernel that we're ready.\n",
              "      channel.send({})\n",
              "\n",
              "      for await (const message of channel.messages) {\n",
              "        // Send a message to notify the kernel that we're ready.\n",
              "        channel.send({})\n",
              "        if (message.buffers) {\n",
              "          for (const buffer of message.buffers) {\n",
              "            buffers.push(buffer);\n",
              "            downloaded += buffer.byteLength;\n",
              "            progress.value = downloaded;\n",
              "          }\n",
              "        }\n",
              "      }\n",
              "      const blob = new Blob(buffers, {type: 'application/binary'});\n",
              "      const a = document.createElement('a');\n",
              "      a.href = window.URL.createObjectURL(blob);\n",
              "      a.download = filename;\n",
              "      div.appendChild(a);\n",
              "      a.click();\n",
              "      div.remove();\n",
              "    }\n",
              "  "
            ],
            "text/plain": [
              "<IPython.core.display.Javascript object>"
            ]
          },
          "metadata": {
            "tags": []
          }
        },
        {
          "output_type": "display_data",
          "data": {
            "application/javascript": [
              "download(\"download_e8ec6048-c898-48a9-a3c0-e8b274ea57a4\", \"model_4.h5\", 257013560)"
            ],
            "text/plain": [
              "<IPython.core.display.Javascript object>"
            ]
          },
          "metadata": {
            "tags": []
          }
        }
      ]
    },
    {
      "cell_type": "markdown",
      "metadata": {
        "id": "0O6Frym0Y7ad"
      },
      "source": [
        "### Ensemble predictions"
      ]
    },
    {
      "cell_type": "code",
      "metadata": {
        "colab": {
          "base_uri": "https://localhost:8080/",
          "height": 35
        },
        "id": "C9NmGUoVBvav",
        "outputId": "286177fc-16f3-4649-f151-7faac5e744d3"
      },
      "source": [
        "test_paths = GCS_DS_PATH + \"test/\" + df_sub['StudyInstanceUID'] + '.jpg'\r\n",
        "test_paths[0]"
      ],
      "execution_count": null,
      "outputs": [
        {
          "output_type": "execute_result",
          "data": {
            "application/vnd.google.colaboratory.intrinsic+json": {
              "type": "string"
            },
            "text/plain": [
              "'gs://kds-26cc3b044601ad8c96f3938b262de2a183d1084c40612a7f86ddf418/test/1.2.826.0.1.3680043.8.498.46923145579096002617106567297135160932.jpg'"
            ]
          },
          "metadata": {
            "tags": []
          },
          "execution_count": 23
        }
      ]
    },
    {
      "cell_type": "code",
      "metadata": {
        "colab": {
          "background_save": true,
          "base_uri": "https://localhost:8080/"
        },
        "id": "spYtDp-mW_7C",
        "outputId": "241ab57e-983d-47ff-957c-7e05674ced07"
      },
      "source": [
        "test_decoder = build_decoder(with_labels=False, target_size=(img_size, img_size))\r\n",
        "\r\n",
        "dtest = build_dataset(\r\n",
        "    test_paths[0:test_limit], bsize=batch_size, repeat=False, \r\n",
        "    shuffle=False, augment=False, cache=False, \r\n",
        "    decode_fn=test_decoder\r\n",
        ")\r\n",
        "\r\n",
        "ensemble_preds = np.zeros((len(test_paths[0:test_limit]), n_classes), dtype=np.float)\r\n",
        "\r\n",
        "for fold in range(0, n_fold):\r\n",
        "  print(f\"model: {fold}\")\r\n",
        "  path = os.path.join(\"output_path\", str(fold))\r\n",
        "  mkdir_if_not_exist(path)\r\n",
        "  model_path = os.path.join(path, \"model_\"+str(fold)+\".h5\")\r\n",
        "  \r\n",
        "  with strategy.scope():\r\n",
        "      model = tf.keras.models.load_model(model_path)\r\n",
        "\r\n",
        "      y_preds = model.predict(dtest, verbose=1)\r\n",
        "\r\n",
        "      # sum the predicted values\r\n",
        "      ensemble_preds += np.array(y_preds, dtype=np.float)\r\n",
        "\r\n",
        "# average the predicted values\r\n",
        "ensemble_preds /= n_fold\r\n",
        "df_sub.iloc[:, 1:] = ensemble_preds\r\n",
        "display(df_sub)"
      ],
      "execution_count": null,
      "outputs": [
        {
          "output_type": "stream",
          "text": [
            "model: 0\n",
            "56/56 [==============================] - 82s 1s/step\n",
            "model: 1\n",
            "56/56 [==============================] - 81s 1s/step\n",
            "model: 2\n",
            "56/56 [==============================] - 83s 1s/step\n",
            "model: 3\n",
            "56/56 [==============================] - 84s 1s/step\n",
            "model: 4\n",
            "56/56 [==============================] - 84s 1s/step\n"
          ],
          "name": "stdout"
        },
        {
          "output_type": "display_data",
          "data": {
            "text/html": [
              "<div>\n",
              "<style scoped>\n",
              "    .dataframe tbody tr th:only-of-type {\n",
              "        vertical-align: middle;\n",
              "    }\n",
              "\n",
              "    .dataframe tbody tr th {\n",
              "        vertical-align: top;\n",
              "    }\n",
              "\n",
              "    .dataframe thead th {\n",
              "        text-align: right;\n",
              "    }\n",
              "</style>\n",
              "<table border=\"1\" class=\"dataframe\">\n",
              "  <thead>\n",
              "    <tr style=\"text-align: right;\">\n",
              "      <th></th>\n",
              "      <th>StudyInstanceUID</th>\n",
              "      <th>ETT - Abnormal</th>\n",
              "      <th>ETT - Borderline</th>\n",
              "      <th>ETT - Normal</th>\n",
              "      <th>NGT - Abnormal</th>\n",
              "      <th>NGT - Borderline</th>\n",
              "      <th>NGT - Incompletely Imaged</th>\n",
              "      <th>NGT - Normal</th>\n",
              "      <th>CVC - Abnormal</th>\n",
              "      <th>CVC - Borderline</th>\n",
              "      <th>CVC - Normal</th>\n",
              "      <th>Swan Ganz Catheter Present</th>\n",
              "    </tr>\n",
              "  </thead>\n",
              "  <tbody>\n",
              "    <tr>\n",
              "      <th>0</th>\n",
              "      <td>1.2.826.0.1.3680043.8.498.46923145579096002617...</td>\n",
              "      <td>0.003980</td>\n",
              "      <td>0.148109</td>\n",
              "      <td>0.751670</td>\n",
              "      <td>0.006566</td>\n",
              "      <td>0.004812</td>\n",
              "      <td>0.017220</td>\n",
              "      <td>0.967534</td>\n",
              "      <td>0.034764</td>\n",
              "      <td>0.143648</td>\n",
              "      <td>0.961513</td>\n",
              "      <td>0.997017</td>\n",
              "    </tr>\n",
              "    <tr>\n",
              "      <th>1</th>\n",
              "      <td>1.2.826.0.1.3680043.8.498.84006870182611080091...</td>\n",
              "      <td>0.000057</td>\n",
              "      <td>0.000110</td>\n",
              "      <td>0.000085</td>\n",
              "      <td>0.000170</td>\n",
              "      <td>0.000179</td>\n",
              "      <td>0.000255</td>\n",
              "      <td>0.000251</td>\n",
              "      <td>0.006026</td>\n",
              "      <td>0.005555</td>\n",
              "      <td>0.994002</td>\n",
              "      <td>0.000118</td>\n",
              "    </tr>\n",
              "    <tr>\n",
              "      <th>2</th>\n",
              "      <td>1.2.826.0.1.3680043.8.498.12219033294413119947...</td>\n",
              "      <td>0.000219</td>\n",
              "      <td>0.000368</td>\n",
              "      <td>0.000274</td>\n",
              "      <td>0.000316</td>\n",
              "      <td>0.000569</td>\n",
              "      <td>0.000261</td>\n",
              "      <td>0.000327</td>\n",
              "      <td>0.028151</td>\n",
              "      <td>0.392895</td>\n",
              "      <td>0.643898</td>\n",
              "      <td>0.000217</td>\n",
              "    </tr>\n",
              "    <tr>\n",
              "      <th>3</th>\n",
              "      <td>1.2.826.0.1.3680043.8.498.84994474380235968109...</td>\n",
              "      <td>0.003846</td>\n",
              "      <td>0.029073</td>\n",
              "      <td>0.049871</td>\n",
              "      <td>0.018470</td>\n",
              "      <td>0.013193</td>\n",
              "      <td>0.957945</td>\n",
              "      <td>0.039246</td>\n",
              "      <td>0.113185</td>\n",
              "      <td>0.254475</td>\n",
              "      <td>0.611831</td>\n",
              "      <td>0.019305</td>\n",
              "    </tr>\n",
              "    <tr>\n",
              "      <th>4</th>\n",
              "      <td>1.2.826.0.1.3680043.8.498.35798987793805669662...</td>\n",
              "      <td>0.000273</td>\n",
              "      <td>0.000643</td>\n",
              "      <td>0.000559</td>\n",
              "      <td>0.000777</td>\n",
              "      <td>0.000815</td>\n",
              "      <td>0.000597</td>\n",
              "      <td>0.002610</td>\n",
              "      <td>0.050831</td>\n",
              "      <td>0.237322</td>\n",
              "      <td>0.804757</td>\n",
              "      <td>0.000424</td>\n",
              "    </tr>\n",
              "    <tr>\n",
              "      <th>...</th>\n",
              "      <td>...</td>\n",
              "      <td>...</td>\n",
              "      <td>...</td>\n",
              "      <td>...</td>\n",
              "      <td>...</td>\n",
              "      <td>...</td>\n",
              "      <td>...</td>\n",
              "      <td>...</td>\n",
              "      <td>...</td>\n",
              "      <td>...</td>\n",
              "      <td>...</td>\n",
              "      <td>...</td>\n",
              "    </tr>\n",
              "    <tr>\n",
              "      <th>3577</th>\n",
              "      <td>1.2.826.0.1.3680043.8.498.81464483108873296584...</td>\n",
              "      <td>0.000549</td>\n",
              "      <td>0.001749</td>\n",
              "      <td>0.004719</td>\n",
              "      <td>0.008885</td>\n",
              "      <td>0.017725</td>\n",
              "      <td>0.926567</td>\n",
              "      <td>0.029308</td>\n",
              "      <td>0.006811</td>\n",
              "      <td>0.090162</td>\n",
              "      <td>0.958868</td>\n",
              "      <td>0.001191</td>\n",
              "    </tr>\n",
              "    <tr>\n",
              "      <th>3578</th>\n",
              "      <td>1.2.826.0.1.3680043.8.498.33579133018211530710...</td>\n",
              "      <td>0.000666</td>\n",
              "      <td>0.001067</td>\n",
              "      <td>0.002221</td>\n",
              "      <td>0.001579</td>\n",
              "      <td>0.003761</td>\n",
              "      <td>0.000356</td>\n",
              "      <td>0.002721</td>\n",
              "      <td>0.590587</td>\n",
              "      <td>0.351006</td>\n",
              "      <td>0.168774</td>\n",
              "      <td>0.001190</td>\n",
              "    </tr>\n",
              "    <tr>\n",
              "      <th>3579</th>\n",
              "      <td>1.2.826.0.1.3680043.8.498.61472811086105902907...</td>\n",
              "      <td>0.000064</td>\n",
              "      <td>0.000177</td>\n",
              "      <td>0.000101</td>\n",
              "      <td>0.000290</td>\n",
              "      <td>0.000317</td>\n",
              "      <td>0.000081</td>\n",
              "      <td>0.000221</td>\n",
              "      <td>0.006323</td>\n",
              "      <td>0.024265</td>\n",
              "      <td>0.967607</td>\n",
              "      <td>0.000125</td>\n",
              "    </tr>\n",
              "    <tr>\n",
              "      <th>3580</th>\n",
              "      <td>1.2.826.0.1.3680043.8.498.19434375795525494655...</td>\n",
              "      <td>0.000215</td>\n",
              "      <td>0.000629</td>\n",
              "      <td>0.000274</td>\n",
              "      <td>0.000299</td>\n",
              "      <td>0.000372</td>\n",
              "      <td>0.000051</td>\n",
              "      <td>0.000618</td>\n",
              "      <td>0.062418</td>\n",
              "      <td>0.274576</td>\n",
              "      <td>0.631775</td>\n",
              "      <td>0.000148</td>\n",
              "    </tr>\n",
              "    <tr>\n",
              "      <th>3581</th>\n",
              "      <td>1.2.826.0.1.3680043.8.498.21182456828145534541...</td>\n",
              "      <td>0.000076</td>\n",
              "      <td>0.000188</td>\n",
              "      <td>0.000423</td>\n",
              "      <td>0.000246</td>\n",
              "      <td>0.000124</td>\n",
              "      <td>0.000231</td>\n",
              "      <td>0.000166</td>\n",
              "      <td>0.010997</td>\n",
              "      <td>0.016590</td>\n",
              "      <td>0.986736</td>\n",
              "      <td>0.000191</td>\n",
              "    </tr>\n",
              "  </tbody>\n",
              "</table>\n",
              "<p>3582 rows × 12 columns</p>\n",
              "</div>"
            ],
            "text/plain": [
              "                                       StudyInstanceUID  ...  Swan Ganz Catheter Present\n",
              "0     1.2.826.0.1.3680043.8.498.46923145579096002617...  ...                    0.997017\n",
              "1     1.2.826.0.1.3680043.8.498.84006870182611080091...  ...                    0.000118\n",
              "2     1.2.826.0.1.3680043.8.498.12219033294413119947...  ...                    0.000217\n",
              "3     1.2.826.0.1.3680043.8.498.84994474380235968109...  ...                    0.019305\n",
              "4     1.2.826.0.1.3680043.8.498.35798987793805669662...  ...                    0.000424\n",
              "...                                                 ...  ...                         ...\n",
              "3577  1.2.826.0.1.3680043.8.498.81464483108873296584...  ...                    0.001191\n",
              "3578  1.2.826.0.1.3680043.8.498.33579133018211530710...  ...                    0.001190\n",
              "3579  1.2.826.0.1.3680043.8.498.61472811086105902907...  ...                    0.000125\n",
              "3580  1.2.826.0.1.3680043.8.498.19434375795525494655...  ...                    0.000148\n",
              "3581  1.2.826.0.1.3680043.8.498.21182456828145534541...  ...                    0.000191\n",
              "\n",
              "[3582 rows x 12 columns]"
            ]
          },
          "metadata": {
            "tags": []
          }
        }
      ]
    },
    {
      "cell_type": "markdown",
      "metadata": {
        "id": "au14_jpipx9e"
      },
      "source": [
        "# References\n",
        "\n",
        "\n",
        "1.   [RANZCR CLiP - Catheter and Line Position Challenge](https://www.kaggle.com/c/ranzcr-clip-catheter-line-classification)\n",
        "2.   [CoroNet: A deep neural network for detection and diagnosis of COVID-19 from chest x-ray images](https://www.ncbi.nlm.nih.gov/pmc/articles/PMC7274128/)\n",
        "\n",
        "\n"
      ]
    }
  ]
}